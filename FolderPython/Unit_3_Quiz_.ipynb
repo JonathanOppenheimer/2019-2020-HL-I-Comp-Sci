{
 "cells": [
  {
   "cell_type": "markdown",
   "metadata": {},
   "source": [
    "### Question 1\n",
    "Soon, we will start web scraping and making API calls in order to get information off the internet. To do this, you'll need to know a bit about html encoding. Go to twitter.com and type in \"oregon episcopal school\" into the search bar and press enter. What does the URL look like? What happened to the spaces between oregon episcopal school? Type \"kanye west.\" What does the URL look like now? \n",
    "\n",
    "Write a program that asks for the user's search term and then returns the entire twitter search URL starting with \"https\" and ending with something like \"lang=en\" or \"src=typd\""
   ]
  },
  {
   "cell_type": "code",
   "execution_count": 8,
   "metadata": {},
   "outputs": [
    {
     "name": "stdout",
     "output_type": "stream",
     "text": [
      "Enter your twitter search termshello i am\n",
      "https://twitter.com/search?q=hello%20i%20am&src=typd&lang=en\n"
     ]
    }
   ],
   "source": [
    "terms = input(\"Enter your twitter search terms\")\n",
    "terms = terms.split()\n",
    "\n",
    "url = \"https://twitter.com/search?q=\"\n",
    "\n",
    "for i in range(len(terms)):\n",
    "    url = url + terms[i] + \"%20\"\n",
    "url = url[:-3]\n",
    "url = url + \"&src=typd&lang=en\"\n",
    "\n",
    "print(url)\n",
    "    \n"
   ]
  },
  {
   "cell_type": "markdown",
   "metadata": {},
   "source": [
    "### Question 2\n",
    "Write a program that asks for the user's favorite movie genre. If the person says \"comedy\", ask what their favorite comedic actor is. If they say \"Will Ferrell\", ask what their favorite Will Ferrell movie is. If they say \"Old School\", say \"You have awesome taste!\" Otherwise, say, \"Get some taste.\" Use a Boolean variable called good_taste."
   ]
  },
  {
   "cell_type": "code",
   "execution_count": 42,
   "metadata": {},
   "outputs": [
    {
     "name": "stdout",
     "output_type": "stream",
     "text": [
      "favorite genre? comedy\n",
      "favorite actor? Will Ferrell\n",
      "favorite movie?Old School\n",
      "good taste\n"
     ]
    }
   ],
   "source": [
    "genre = input(\"What is your favorite movie genere?\")\n",
    "\n",
    "good_taste = True\n",
    "\n",
    "if 'comedy' in genre:\n",
    "    actor = input(\"What is your favorite comedic actor\")\n",
    "    if 'Will Ferrell' in actor:\n",
    "        movie = input(\"What is your favorite Will Ferrell movie?\")\n",
    "        if 'Old School' in movie:\n",
    "            good_taste = True\n",
    "        else:\n",
    "            good_taste = False\n",
    "    else:\n",
    "        good_taste = False\n",
    "else: \n",
    "    good_taste = False\n",
    "\n",
    "if good_taste == True:\n",
    "    print(\"You have awesome taste!\")\n",
    "else: \n",
    "    print(\"Get some taste.\")"
   ]
  },
  {
   "cell_type": "markdown",
   "metadata": {},
   "source": [
    "### Question 3\n",
    "Write a program that asks the user for two numbers and then returns all the primes between those two numbers (inclusive). For example, your code should work like this:\n",
    "\n",
    "First number: 5\n",
    "\n",
    "Second number: 16\n",
    "\n",
    "Primes: \n",
    "5\n",
    "\n",
    "7\n",
    "\n",
    "11\n",
    "\n",
    "13\n",
    "\n",
    "Hint: you'll probably need a for loop within a for loop."
   ]
  },
  {
   "cell_type": "code",
   "execution_count": 60,
   "metadata": {},
   "outputs": [
    {
     "name": "stdout",
     "output_type": "stream",
     "text": [
      "What number should I start at? 5\n",
      "What number should I end at? 15\n",
      "The primes from 5 to 15 are...\n",
      "5\n",
      "7\n",
      "11\n",
      "13\n"
     ]
    }
   ],
   "source": [
    "n = int(input(\"What number should I start at? \"))\n",
    "p = int(input(\"What number should I end at? \"))\n",
    "\n",
    "print(f\"The primes from {n} to {p} are...\")\n",
    "for p in range(n, p+1):\n",
    "    for i in range(2, p):\n",
    "        if p % i == 0:\n",
    "            break\n",
    "    else:\n",
    "        print(p)"
   ]
  },
  {
   "cell_type": "markdown",
   "metadata": {},
   "source": [
    "### Challenge:\n",
    "On your last problem set, you split number such as 574 into digits by first turning it into a string, then breaking it up into letters, and then turning each letter back into a number. However, you can use math instead to get each digit, rather than turning anything into a string. \n",
    "\n",
    "Use your math operations such as % or // to take a user's number between 0 and 999 and return the digits. For example, 574 should return 5, 7, and 4."
   ]
  },
  {
   "cell_type": "code",
   "execution_count": 57,
   "metadata": {},
   "outputs": [
    {
     "name": "stdout",
     "output_type": "stream",
     "text": [
      "Enter in a number between 0 and 999. 155\n",
      "The hundreds value is 1.\n",
      "The tens value 5.\n",
      "The ones value is 5.\n"
     ]
    }
   ],
   "source": [
    "import math\n",
    "def round_down(n, decimals=0):\n",
    "    multiplier = 10 ** decimals\n",
    "    return math.floor(n * multiplier) / multiplier\n",
    "\n",
    "number = int(input(\"Enter in a number between 0 and 999. \"))\n",
    "\n",
    "hundreds = number/100\n",
    "tens = number%100\n",
    "ones = number%10\n",
    "\n",
    "hundreds = math.floor(hundreds)\n",
    "tens = int((round_down(tens, -1)/10))\n",
    "ones = ones\n",
    "\n",
    "print(f\"The hundreds value is {hundreds}.\")\n",
    "print(f\"The tens value {tens}.\")\n",
    "print(f\"The ones value is {ones}.\")"
   ]
  },
  {
   "cell_type": "code",
   "execution_count": null,
   "metadata": {},
   "outputs": [],
   "source": []
  }
 ],
 "metadata": {
  "kernelspec": {
   "display_name": "Python 3",
   "language": "python",
   "name": "python3"
  },
  "language_info": {
   "codemirror_mode": {
    "name": "ipython",
    "version": 3
   },
   "file_extension": ".py",
   "mimetype": "text/x-python",
   "name": "python",
   "nbconvert_exporter": "python",
   "pygments_lexer": "ipython3",
   "version": "3.7.3"
  }
 },
 "nbformat": 4,
 "nbformat_minor": 2
}
