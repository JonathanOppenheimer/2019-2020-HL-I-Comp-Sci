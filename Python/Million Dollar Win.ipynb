{
 "cells": [
  {
   "cell_type": "code",
   "execution_count": 6,
   "metadata": {},
   "outputs": [
    {
     "name": "stdout",
     "output_type": "stream",
     "text": [
      "0.37387207161576597\n",
      "0.40816968695173006\n",
      "0.9683787552455003\n"
     ]
    }
   ],
   "source": [
    "from random import seed\n",
    "from random import random\n",
    "counter = 0 \n",
    "a = 0.1\n",
    "b. = 0.7\n",
    "c = 0.8\n",
    "d = 0.9\n",
    "\n",
    "for i in range(3):\n",
    "    value = random()\n",
    "    if()\n",
    "    "
   ]
  },
  {
   "cell_type": "code",
   "execution_count": null,
   "metadata": {},
   "outputs": [],
   "source": []
  }
 ],
 "metadata": {
  "kernelspec": {
   "display_name": "Python 3",
   "language": "python",
   "name": "python3"
  },
  "language_info": {
   "codemirror_mode": {
    "name": "ipython",
    "version": 3
   },
   "file_extension": ".py",
   "mimetype": "text/x-python",
   "name": "python",
   "nbconvert_exporter": "python",
   "pygments_lexer": "ipython3",
   "version": "3.7.3"
  }
 },
 "nbformat": 4,
 "nbformat_minor": 2
}
