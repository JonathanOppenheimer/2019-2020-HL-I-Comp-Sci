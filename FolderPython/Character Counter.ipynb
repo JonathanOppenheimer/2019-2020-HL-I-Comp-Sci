{
 "cells": [
  {
   "cell_type": "code",
   "execution_count": 5,
   "metadata": {},
   "outputs": [
    {
     "name": "stdout",
     "output_type": "stream",
     "text": [
      "63\n"
     ]
    }
   ],
   "source": [
    "names = \"Alvarado, Estefania; Boerner, Christopher; Boesen, Megan; Boldt, Natalie; Brown, John; Caboti-Jones, Maximilian; Carpenter, Joseph; Carroll, Catherine; Carroll, Meghan; Chadwick, Ellen;  Chan, Kaleb;  Cipriano, Emilia; Dean, Erin; Donovan, McCauley Katherine; Dubois, Madeline; Dunie, Alexandra; Evans, Jack; Fletchall, Ryan; Freden, Natalia; Gedeck, Victor; Green, Michelina; Grund, Siri; Heffernan, Miles; Holewinski, Alexis;  Ives, Emily; Jagerskog, Agnes; Lambert, Sarah; Lankford, Evan; Lawrence, Evan; Lester, Andrew; Lindly, Jack; Litton, Jasper; Mamajek, Madison; Meade, Constance; Murphy, Gillian; Nelson, Jacob; O'Hanlon, Clare; Oppenheimer, Aimison Jonathan; Pathak, Umika; Pilson, Olivia; Reithinger, Ella; Roche, Marie; Rossi, Hannah; Ruoff, Cade; Russell, Caroline; Singhvi, Niharika; Snyder, Elisabeth; Sperry, Matthew; Tabet, Carla; Tabet, Sophie; Tarpgaard, Grace; Tarter, Anne; Tarter, Cole; Thapliya, Anuragi; Trombo, James; Twiford, Julia; Urbom, Sophia; Vega, Alessandria Mira; Viala, Michael; Vollen, Maia; Werbel, Jonah; Whitlock, Hannah; Zulfiqar, Sarah\"\n",
    "names = names.split(\";\")\n",
    "print(len(names))"
   ]
  },
  {
   "cell_type": "code",
   "execution_count": null,
   "metadata": {},
   "outputs": [],
   "source": []
  }
 ],
 "metadata": {
  "kernelspec": {
   "display_name": "Python 3",
   "language": "python",
   "name": "python3"
  },
  "language_info": {
   "codemirror_mode": {
    "name": "ipython",
    "version": 3
   },
   "file_extension": ".py",
   "mimetype": "text/x-python",
   "name": "python",
   "nbconvert_exporter": "python",
   "pygments_lexer": "ipython3",
   "version": "3.7.3"
  }
 },
 "nbformat": 4,
 "nbformat_minor": 2
}
