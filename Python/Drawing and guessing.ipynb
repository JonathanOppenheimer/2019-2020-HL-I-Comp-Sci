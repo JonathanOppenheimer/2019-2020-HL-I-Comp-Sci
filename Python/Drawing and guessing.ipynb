{
 "cells": [
  {
   "cell_type": "code",
   "execution_count": 9,
   "metadata": {},
   "outputs": [
    {
     "name": "stdout",
     "output_type": "stream",
     "text": [
      "Hello! Enter you name bruh\n",
      "Good morning bruh. I'm thinking of a number between 1 and 30. 15 \n",
      "Guess the number within 5 guesses... You have 5 guesses remaining. 1\n",
      "Too low of a guess \n",
      "Guess the number within 5 guesses... You have 4 guesses remaining. 2\n",
      "Too low of a guess \n",
      "Guess the number within 5 guesses... You have 3 guesses remaining. 15\n",
      "You were right \n"
     ]
    }
   ],
   "source": [
    "import random \n",
    "\n",
    "guess_used = 0\n",
    "name = input(\"Hello! Enter you name \")\n",
    "number = random.randint(1,30)\n",
    "print(f\"Good morning {name}. I'm thinking of a number between 1 and 30. {number} \")\n",
    "while guess_used < 5:\n",
    "    guess = int(input(f\"Guess the number within 5 guesses... You have {5-guess_used} guesses remaining. \"))\n",
    "    if guess < number:\n",
    "        print(\"Too low of a guess \")\n",
    "    if guess > number: \n",
    "        print(\"Too high of a guess \")\n",
    "    if guess == number:\n",
    "        print(\"You were right \")\n",
    "        break\n",
    "    guess_used = guess_used + 1\n",
    "else:\n",
    "    print(f\"You lost. \")\n",
    "    \n",
    "    \n",
    "    "
   ]
  },
  {
   "cell_type": "code",
   "execution_count": 4,
   "metadata": {},
   "outputs": [
    {
     "ename": "SystemExit",
     "evalue": "0",
     "output_type": "error",
     "traceback": [
      "An exception has occurred, use %tb to see the full traceback.\n",
      "\u001b[0;31mSystemExit\u001b[0m\u001b[0;31m:\u001b[0m 0\n"
     ]
    }
   ],
   "source": [
    "from turtle import *\n",
    "color('red', 'yellow')\n",
    "begin_fill()\n",
    "while True:\n",
    "    forward(2)\n",
    "    left(2)\n",
    "    if abs(pos()) < 1:\n",
    "        break\n",
    "end_fill()\n",
    "done()"
   ]
  },
  {
   "cell_type": "code",
   "execution_count": null,
   "metadata": {},
   "outputs": [],
   "source": []
  },
  {
   "cell_type": "code",
   "execution_count": null,
   "metadata": {},
   "outputs": [],
   "source": []
  }
 ],
 "metadata": {
  "kernelspec": {
   "display_name": "Python 3",
   "language": "python",
   "name": "python3"
  },
  "language_info": {
   "codemirror_mode": {
    "name": "ipython",
    "version": 3
   },
   "file_extension": ".py",
   "mimetype": "text/x-python",
   "name": "python",
   "nbconvert_exporter": "python",
   "pygments_lexer": "ipython3",
   "version": "3.7.3"
  }
 },
 "nbformat": 4,
 "nbformat_minor": 2
}
