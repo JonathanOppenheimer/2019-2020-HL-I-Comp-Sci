{
 "cells": [
  {
   "cell_type": "markdown",
   "metadata": {},
   "source": [
    "1.) The code below should take in a user's name, and print each letter and the index of each letter on a new line. For example, if a user enters \"Max\", the code should print:\n",
    "\n",
    "M is in index 0\n",
    "\n",
    "a is in index 1\n",
    "\n",
    "x is in index 2\n",
    "\n",
    "There are two errors in the code below:"
   ]
  },
  {
   "cell_type": "code",
   "execution_count": 1,
   "metadata": {},
   "outputs": [
    {
     "name": "stdout",
     "output_type": "stream",
     "text": [
      "What is your name? helllo\n"
     ]
    },
    {
     "ename": "TypeError",
     "evalue": "'str' object cannot be interpreted as an integer",
     "output_type": "error",
     "traceback": [
      "\u001b[0;31m---------------------------------------------------------------------------\u001b[0m",
      "\u001b[0;31mTypeError\u001b[0m                                 Traceback (most recent call last)",
      "\u001b[0;32m<ipython-input-1-915c14e86199>\u001b[0m in \u001b[0;36m<module>\u001b[0;34m\u001b[0m\n\u001b[1;32m      1\u001b[0m \u001b[0mname\u001b[0m \u001b[0;34m=\u001b[0m \u001b[0minput\u001b[0m\u001b[0;34m(\u001b[0m\u001b[0;34m'What is your name? '\u001b[0m\u001b[0;34m)\u001b[0m\u001b[0;34m\u001b[0m\u001b[0;34m\u001b[0m\u001b[0m\n\u001b[0;32m----> 2\u001b[0;31m \u001b[0;32mfor\u001b[0m \u001b[0mi\u001b[0m \u001b[0;32min\u001b[0m \u001b[0mrange\u001b[0m\u001b[0;34m(\u001b[0m\u001b[0mname\u001b[0m\u001b[0;34m)\u001b[0m\u001b[0;34m:\u001b[0m\u001b[0;34m\u001b[0m\u001b[0;34m\u001b[0m\u001b[0m\n\u001b[0m\u001b[1;32m      3\u001b[0m     \u001b[0mprint\u001b[0m\u001b[0;34m(\u001b[0m\u001b[0mname\u001b[0m\u001b[0;34m[\u001b[0m\u001b[0mi\u001b[0m\u001b[0;34m]\u001b[0m \u001b[0;34m+\u001b[0m \u001b[0;34m' is in index '\u001b[0m \u001b[0;34m+\u001b[0m \u001b[0mi\u001b[0m\u001b[0;34m)\u001b[0m\u001b[0;34m\u001b[0m\u001b[0;34m\u001b[0m\u001b[0m\n",
      "\u001b[0;31mTypeError\u001b[0m: 'str' object cannot be interpreted as an integer"
     ]
    }
   ],
   "source": [
    "name = input('What is your name? ')\n",
    "\n",
    "for i in range(name):\n",
    "    print(name[i] + ' is in index ' + i)"
   ]
  },
  {
   "cell_type": "markdown",
   "metadata": {},
   "source": [
    "Rewrite the code here with no errors:"
   ]
  },
  {
   "cell_type": "code",
   "execution_count": 12,
   "metadata": {},
   "outputs": [
    {
     "name": "stdout",
     "output_type": "stream",
     "text": [
      "What is your name? jonathan\n",
      "j is in index 0\n",
      "o is in index 1\n",
      "n is in index 2\n",
      "a is in index 3\n",
      "t is in index 4\n",
      "h is in index 5\n",
      "a is in index 6\n",
      "n is in index 7\n"
     ]
    }
   ],
   "source": [
    "name = input('What is your name? ')\n",
    "\n",
    "for i in range(len(name)):\n",
    "    print(f\"{name[i]} is in index {i}\")"
   ]
  },
  {
   "cell_type": "markdown",
   "metadata": {},
   "source": [
    "2.) The code below takes a list of five sports and prints out the middle three sports. "
   ]
  },
  {
   "cell_type": "code",
   "execution_count": 5,
   "metadata": {
    "scrolled": true
   },
   "outputs": [
    {
     "name": "stdout",
     "output_type": "stream",
     "text": [
      "soccer\n",
      "baseball\n",
      "football\n"
     ]
    }
   ],
   "source": [
    "sports = ['tennis', 'soccer', 'baseball', 'football', 'track']\n",
    "for sport in sports:\n",
    "    if sport != 'tennis':\n",
    "        if sport != 'track':\n",
    "            print(sport)"
   ]
  },
  {
   "cell_type": "markdown",
   "metadata": {},
   "source": [
    "Use the range function to print these sports out. Hint: You will no longer need the \"for sport in sports\" or \"if\" lines."
   ]
  },
  {
   "cell_type": "code",
   "execution_count": 26,
   "metadata": {},
   "outputs": [
    {
     "name": "stdout",
     "output_type": "stream",
     "text": [
      "soccer\n",
      "baseball\n",
      "football\n"
     ]
    }
   ],
   "source": [
    "sports = ['tennis', 'soccer', 'baseball', 'football', 'track']\n",
    "\n",
    "for i in range(len(sports[1:-1])):\n",
    "    print(sports[i+1])"
   ]
  },
  {
   "cell_type": "markdown",
   "metadata": {},
   "source": [
    "3.) Print out the word \"pizza\" in reverse by adding JUST ONE LINE of code below."
   ]
  },
  {
   "cell_type": "code",
   "execution_count": 32,
   "metadata": {},
   "outputs": [
    {
     "name": "stdout",
     "output_type": "stream",
     "text": [
      "azzip\n"
     ]
    }
   ],
   "source": [
    "word = 'pizza'\n",
    "print(word[::-1])"
   ]
  },
  {
   "cell_type": "markdown",
   "metadata": {},
   "source": [
    "4.) Replace all of the z's with o's and x's with a's to decode the message below:\n",
    "\n"
   ]
  },
  {
   "cell_type": "code",
   "execution_count": 38,
   "metadata": {},
   "outputs": [
    {
     "name": "stdout",
     "output_type": "stream",
     "text": [
      "Despacito ooo la la\n"
     ]
    }
   ],
   "source": [
    "message = 'Despxcitz zzz lx lx'\n",
    "message = message.replace('z', 'o')\n",
    "message = message.replace('x', 'a')\n",
    "print(message)"
   ]
  },
  {
   "cell_type": "markdown",
   "metadata": {},
   "source": [
    "5.) To decode the message, find every fourth character in the string, starting from the 2nd character, then print this result in reverse order."
   ]
  },
  {
   "cell_type": "code",
   "execution_count": 39,
   "metadata": {},
   "outputs": [
    {
     "name": "stdout",
     "output_type": "stream",
     "text": [
      "I love computer science!\n"
     ]
    }
   ],
   "source": [
    "message = 'y!oooeyyycpeenpooevxoictacaabspqr lmnrijkeabctsvuuytrpmopmabcoyxwctcv pqreabcvdebodddlccc bcdIb'\n",
    "print(message[1::4][::-1])\n"
   ]
  },
  {
   "cell_type": "markdown",
   "metadata": {},
   "source": [
    "6.) Take in to lists of numbers. Sort them. If the smallest two numbers of both lists are equal, print \"Your smallest two numbers are the same!\"\n",
    "\n",
    "For example, your output might look like this:\n",
    "\n",
    "Give me one list: 4 9 1 3 7\n",
    "\n",
    "Give me another list: 6 8 1 3 5\n",
    "\n",
    "The smallest two numbers are the same!"
   ]
  },
  {
   "cell_type": "code",
   "execution_count": 45,
   "metadata": {},
   "outputs": [
    {
     "name": "stdout",
     "output_type": "stream",
     "text": [
      "Enter a list of numbers seperated by a space1 2 3\n",
      "Enter a list of numbers seperated by a space3 2 1\n",
      "The smallest two numbers are the same!\n"
     ]
    }
   ],
   "source": [
    "numbers1 = input(\"Enter a list of numbers seperated by a space\")\n",
    "numbers1 = numbers1.split()\n",
    "numbers1.sort()\n",
    "numbers2 = input(\"Enter a list of numbers seperated by a space\")\n",
    "numbers2 = numbers2.split()\n",
    "numbers2.sort()\n",
    "\n",
    "if numbers1[0] == numbers2[0]:\n",
    "    print(\"The smallest two numbers are the same!\")"
   ]
  },
  {
   "cell_type": "markdown",
   "metadata": {},
   "source": [
    "7.) Ask the user to give you two integers, separated by a space, in the same input line. Calculate the product of all of the integers between those numbers, inclusive. You can assume that the first number is less than or equal to the second number. For example, your output will look like this:\n",
    "\n",
    "Give me two numbers, separated by a space: 3 5\n",
    "\n",
    "The product of all the numbers between is 60."
   ]
  },
  {
   "cell_type": "code",
   "execution_count": 50,
   "metadata": {},
   "outputs": [
    {
     "name": "stdout",
     "output_type": "stream",
     "text": [
      "Enter two integers seperated by a space.3 5\n",
      "60\n"
     ]
    }
   ],
   "source": [
    "ints = input(\"Enter two integers seperated by a space.\")\n",
    "ints = ints.split()\n",
    "total = 1\n",
    "\n",
    "for i in range(int(ints[0]),int(ints[1])+1):\n",
    "    total = total*i\n",
    "print(total)"
   ]
  },
  {
   "cell_type": "markdown",
   "metadata": {},
   "source": [
    "Challenge - Calculate the product of all of the ODD numbers between two numbers that a user gives you. For example, if the user gives you 3 and 5 or 3 and 6 or 2 and 5 or 2 and 6, the product should be 15. Also, no longer assume that the first number is less than or equal to the second number. If the user enters 5 and 3, then the product should still be 15."
   ]
  },
  {
   "cell_type": "code",
   "execution_count": 54,
   "metadata": {},
   "outputs": [
    {
     "name": "stdout",
     "output_type": "stream",
     "text": [
      "Enter two integers seperated by a space.6 2\n",
      "15\n"
     ]
    }
   ],
   "source": [
    "ints = input(\"Enter two integers seperated by a space.\")\n",
    "ints = ints.split()\n",
    "ints.sort()\n",
    "total = 1\n",
    "\n",
    "for i in range(int(ints[0]),int(ints[1])+1):\n",
    "    if (i%2) != 0:\n",
    "        total = total * i\n",
    "    \n",
    "print(total)"
   ]
  }
 ],
 "metadata": {
  "kernelspec": {
   "display_name": "Python 3",
   "language": "python",
   "name": "python3"
  },
  "language_info": {
   "codemirror_mode": {
    "name": "ipython",
    "version": 3
   },
   "file_extension": ".py",
   "mimetype": "text/x-python",
   "name": "python",
   "nbconvert_exporter": "python",
   "pygments_lexer": "ipython3",
   "version": "3.7.3"
  }
 },
 "nbformat": 4,
 "nbformat_minor": 2
}
