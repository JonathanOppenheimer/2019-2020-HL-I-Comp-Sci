{
 "cells": [
  {
   "cell_type": "code",
   "execution_count": 2,
   "metadata": {},
   "outputs": [],
   "source": [
    "#RUN THIS CELL FIRST\n",
    "import numpy as np\n",
    "from random import randint\n",
    "import matplotlib.pyplot as plt\n",
    "%matplotlib inline"
   ]
  },
  {
   "cell_type": "markdown",
   "metadata": {},
   "source": [
    "1.) In this assignment, you will learn how to make some craps bets. Craps is based off calculating the sum of two dice. If two dice with faces 1-6 are rolled, then the possible sums are 2-12. With pencil and paper, create a table of the die outcomes in order to calculate the probability of obtaining each sum. Write the probability of each of the sums (in fraction form) below. What is the most likely sum?"
   ]
  },
  {
   "cell_type": "code",
   "execution_count": 3,
   "metadata": {
    "collapsed": true
   },
   "outputs": [],
   "source": [
    "# 2 - 1/36\n",
    "# 3 - 2/36 = 1/18\n",
    "# 4 - 3/36 = 1/12\n",
    "# 5 - 4/36 = 1/9\n",
    "# 6 - 5/36\n",
    "# 7 - 6/36 = 1/6\n",
    "# 8 - 5/36 \n",
    "# 9 - 4/36 = 1/9 1\n",
    "# 10 - 3/36 = 1/2 \n",
    "# 11 - 1/18\n",
    "# 12 - 1/36"
   ]
  },
  {
   "cell_type": "markdown",
   "metadata": {},
   "source": [
    "2.) Okay, so now you know the theoretical probabilities. Let's calculate the experimental probabilities, though. Use the randint function to simulate two dice rolls. Roll two dice 10,000 times. Create a list called sums of the sums of the dice. "
   ]
  },
  {
   "cell_type": "code",
   "execution_count": 24,
   "metadata": {},
   "outputs": [
    {
     "name": "stdout",
     "output_type": "stream",
     "text": [
      "2 was rolled 245 times - roughly 2.45% times.\n",
      "3 was rolled 547 times - roughly 5.47% times.\n",
      "4 was rolled 847 times - roughly 8.469999999999999% times.\n",
      "5 was rolled 1131 times - roughly 11.31% times.\n",
      "6 was rolled 1375 times - roughly 13.750000000000002% times.\n",
      "7 was rolled 1701 times - roughly 17.01% times.\n",
      "8 was rolled 1344 times - roughly 13.44% times.\n",
      "9 was rolled 1102 times - roughly 11.020000000000001% times.\n",
      "10 was rolled 901 times - roughly 9.01% times.\n",
      "11 was rolled 538 times - roughly 5.38% times.\n",
      "12 was rolled 269 times - roughly 2.69% times.\n"
     ]
    }
   ],
   "source": [
    "sums = []\n",
    "\n",
    "for i in range(10000):\n",
    "    total = 0 \n",
    "    total = randint(1,6) + randint(1,6)\n",
    "    sums.append(total)\n",
    "    \n",
    "for i in range(2,12+1):\n",
    "    total = 0\n",
    "    for j in range(10000):\n",
    "        if i == sums[j]:\n",
    "            total = total + 1\n",
    "    print(f\"{i} was rolled {total} times - roughly {(total/10000)*100}% times.\")"
   ]
  },
  {
   "cell_type": "markdown",
   "metadata": {},
   "source": [
    "3.) Create a histogram of the sums. Note: in order to make the histogram symmetric, use the following extra arguments inside the plt.hist method: \n",
    "bins = 11, range = (1.5,12.5), normed = True"
   ]
  },
  {
   "cell_type": "code",
   "execution_count": 23,
   "metadata": {},
   "outputs": [
    {
     "data": {
      "text/plain": [
       "(array([0.0261, 0.0549, 0.0833, 0.1065, 0.1353, 0.1656, 0.14  , 0.1128,\n",
       "        0.0856, 0.0605, 0.0294]),\n",
       " array([ 1.5,  2.5,  3.5,  4.5,  5.5,  6.5,  7.5,  8.5,  9.5, 10.5, 11.5,\n",
       "        12.5]),\n",
       " <a list of 11 Patch objects>)"
      ]
     },
     "execution_count": 23,
     "metadata": {},
     "output_type": "execute_result"
    },
    {
     "data": {
      "image/png": "[encoded data removed]",
      "text/plain": [
       "<Figure size 432x288 with 1 Axes>"
      ]
     },
     "metadata": {
      "needs_background": "light"
     },
     "output_type": "display_data"
    }
   ],
   "source": [
    "plt.hist(sums, bins = 11, range = (1.5,12.5), density = True)"
   ]
  },
  {
   "cell_type": "markdown",
   "metadata": {},
   "source": [
    "4.) Read about the arguments you just used on this website:\n",
    "https://matplotlib.org/devdocs/api/_as_gen/matplotlib.pyplot.hist.html\n",
    "\n",
    "Explain what each of the three extra arguments you used does below."
   ]
  },
  {
   "cell_type": "code",
   "execution_count": 0,
   "metadata": {
    "collapsed": true
   },
   "outputs": [],
   "source": [
    "#\"bin\" (or \"bucket\") is the range of values\n",
    "#range is xmin to xmax\n",
    "#density shifts histogram from # of times of occourence to the probability of it occouring"
   ]
  },
  {
   "cell_type": "markdown",
   "metadata": {},
   "source": [
    "5.) One of the most common types of bets in craps is a place bet. A place bet is betting on a number and wanting that number to come up before a 7 does. For example, if I bet on 10, then I am wanting a sum of 10 to come up before a sum of 7. I will continue to roll the dice until either a 10 or a 7 comes up, none of the other sums matter. What is the probability that you win this type of bet? \n",
    "\n",
    "Hint: figure out the number of ways you can win and divide it by the sum of all the ways you can win and all the ways you can lose, keeping in mind that most sums do not matter.\n",
    "\n",
    "Calculate the probabilities of winning a place bet on 4, 5, 6, 8, 9, and 10 in fraction form."
   ]
  },
  {
   "cell_type": "code",
   "execution_count": 30,
   "metadata": {},
   "outputs": [],
   "source": [
    "#4 is 1/3\n",
    "#5 is 2/5\n",
    "#6 is 5/11\n",
    "#8 is 5/11\n",
    "#9 is 2/5\n",
    "#10 is 1/3"
   ]
  },
  {
   "cell_type": "markdown",
   "metadata": {},
   "source": [
    "6.) Now let's calculate the experimental probabilities of the above place bet on 6. Roll the dice 50,000 times and calculate the percentage of times that you win. Note: just because you rolled the dice 50,000 times does not mean that your number of wins + losses adds up to 50,000, because many of the other numbers don't matter. \n",
    "\n",
    "(Note: your decimal should be very close to the theoretical fraction you obtained above). "
   ]
  },
  {
   "cell_type": "code",
   "execution_count": 4,
   "metadata": {},
   "outputs": [
    {
     "name": "stdout",
     "output_type": "stream",
     "text": [
      "6 had a win rate of 45.78% of the time.\n"
     ]
    }
   ],
   "source": [
    "total_wins = 0\n",
    "total_runs = 0 \n",
    "\n",
    "for i in range(50000):\n",
    "    is_seven = False\n",
    "    total = 0\n",
    "    while not is_seven:\n",
    "        total = randint(1,6) + randint(1,6)\n",
    "        if total == 6:\n",
    "            total_wins = total_wins + 1\n",
    "            total_runs = total_runs + 1\n",
    "            is_seven = True\n",
    "        if total == 7:\n",
    "            total_runs = total_runs + 1\n",
    "            is_seven = True \n",
    "\n",
    "print(f\"6 had a win rate of {(total_wins/total_runs)*100}% of the time.\")"
   ]
  },
  {
   "cell_type": "markdown",
   "metadata": {},
   "source": [
    "7.) Make a time plot where the x-axis is the number of times you have played and the y-axis is your winning percentage. Be sure to give your axes and title a label. Plot only the first 300 simulations by changing the axes range of your plot."
   ]
  },
  {
   "cell_type": "code",
   "execution_count": 5,
   "metadata": {
    "scrolled": true
   },
   "outputs": [
    {
     "data": {
      "image/png": "[encoded data removed]",
      "text/plain": [
       "<Figure size 432x288 with 1 Axes>"
      ]
     },
     "metadata": {
      "needs_background": "light"
     },
     "output_type": "display_data"
    }
   ],
   "source": [
    "total_wins = 0\n",
    "#total runs is x \n",
    "total_runs = 0 \n",
    "#y is win rate\n",
    "x = []\n",
    "y = []\n",
    "win_rate = 0; \n",
    "for i in range(300):\n",
    "    is_seven = False\n",
    "    total = 0\n",
    "    while not is_seven:\n",
    "        total = randint(1,6) + randint(1,6)\n",
    "        if total == 6:\n",
    "            total_wins = total_wins + 1\n",
    "            total_runs = total_runs + 1\n",
    "            win_rate = (total_wins/total_runs)\n",
    "            x.append(total_runs)\n",
    "            y.append(win_rate)\n",
    "            is_seven = True\n",
    "        if total == 7:\n",
    "            total_runs = total_runs + 1\n",
    "            win_rate = (total_wins/total_runs)\n",
    "            x.append(total_runs)\n",
    "            y.append(win_rate)\n",
    "            is_seven = True \n",
    "            \n",
    "fig = plt.figure()\n",
    "ax = plt.axes()\n",
    "\n",
    "x = np.linspace(0, 1, 300)\n",
    "ax.plot(x, y);"
   ]
  },
  {
   "cell_type": "markdown",
   "metadata": {},
   "source": [
    "8.) For each of the bets, the casino will pay you out different amounts of money if you win (the riskier the bet, the better the payout). Here are the payouts:\n",
    "\n",
    "Place 4: 9:5\n",
    "\n",
    "Place 5: 7:5\n",
    "\n",
    "Place 6: 7:6\n",
    "\n",
    "Place 8: 7:6\n",
    "\n",
    "Place 9: 7:5\n",
    "\n",
    "Place 10: 9:5\n",
    "\n",
    "For example, for every dollar you bet on Place 6, the casino will pay you 7/6 dollars if you win and take your dollar if you lose. Therefore, your expected value, or the money you expect to earn after making this bet, is (7/6)(5/11) + (-1)(6/11) = -$0.015. Meaning, for every dollar you bet, you expect to lose a penny and a half of it.\n",
    "\n",
    "Thus, the house is always expected to win in the end, but this type of bet is pretty conservative, as you are only losing a penny on every dollar.\n",
    "\n",
    "Calculate the theoretical expected value of the Place 4 and Place 5 bets. "
   ]
  },
  {
   "cell_type": "code",
   "execution_count": 9,
   "metadata": {},
   "outputs": [
    {
     "name": "stdout",
     "output_type": "stream",
     "text": [
      "-0.06666666666666665\n",
      "-0.040000000000000036\n"
     ]
    }
   ],
   "source": [
    "#4\n",
    "print((9/5)*(1/3) + (-1)*(2/3))\n",
    "#5\n",
    "print((7/5)*(2/5) + (-1)*(3/5))\n"
   ]
  },
  {
   "cell_type": "markdown",
   "metadata": {},
   "source": [
    "8.) Calculate the expected value of the Place 6 bet experimentally by rolling the dice 100,000 times. "
   ]
  },
  {
   "cell_type": "code",
   "execution_count": 12,
   "metadata": {},
   "outputs": [
    {
     "name": "stdout",
     "output_type": "stream",
     "text": [
      "-0.016159999999999952\n"
     ]
    }
   ],
   "source": [
    "total_wins = 0\n",
    "total_runs = 0 \n",
    "\n",
    "for i in range(100000):\n",
    "    is_seven = False\n",
    "    total = 0\n",
    "    while not is_seven:\n",
    "        total = randint(1,6) + randint(1,6)\n",
    "        if total == 6:\n",
    "            total_wins = total_wins + 1\n",
    "            total_runs = total_runs + 1\n",
    "            is_seven = True\n",
    "        if total == 7:\n",
    "            total_runs = total_runs + 1\n",
    "            is_seven = True \n",
    "\n",
    "win_rate = total_wins/total_runs   \n",
    "\n",
    "print((7/6)*win_rate + -1 * (1-win_rate))"
   ]
  },
  {
   "cell_type": "markdown",
   "metadata": {},
   "source": [
    "9.) Let's also calculate the expected value of the pass bet.  A pass bet wins if the first roll is a 7 or 11. It loses if the first roll is a 2, 3, or 12. It wins if the first roll (4,5,6,8,9, or 10) is rolled again before a 7 is rolled. To calculate the expected values of the pass bet, follow these steps:"
   ]
  },
  {
   "cell_type": "markdown",
   "metadata": {},
   "source": [
    "a. Find P(7 or 11 on the first roll) in fraction form (hint: the fraction should be approximately 0.2222). "
   ]
  },
  {
   "cell_type": "code",
   "execution_count": 13,
   "metadata": {},
   "outputs": [
    {
     "name": "stdout",
     "output_type": "stream",
     "text": [
      "0.2222222222222222\n"
     ]
    }
   ],
   "source": [
    "print(1/6 + 1/18)"
   ]
  },
  {
   "cell_type": "markdown",
   "metadata": {},
   "source": [
    "b.) Find the probability that a 4 is rolled and that it is rolled again before a 7. (Hint: multiply the probability that a 4 is rolled on the first roll times the probability that a 4 is rolled before a 7. The fraction should be approximately equal to 0.0278). "
   ]
  },
  {
   "cell_type": "code",
   "execution_count": 21,
   "metadata": {},
   "outputs": [
    {
     "name": "stdout",
     "output_type": "stream",
     "text": [
      "0.027777777777777776\n"
     ]
    }
   ],
   "source": [
    "print((1/12) * ((1/12)/((1/12)+(1/6)))) "
   ]
  },
  {
   "cell_type": "markdown",
   "metadata": {},
   "source": [
    "c.) Find the probability that a 5 is rolled and it is rolled again before a 7. "
   ]
  },
  {
   "cell_type": "code",
   "execution_count": 22,
   "metadata": {},
   "outputs": [
    {
     "name": "stdout",
     "output_type": "stream",
     "text": [
      "0.04444444444444444\n"
     ]
    }
   ],
   "source": [
    "print((1/9) * ((1/9)/((1/9)+(1/6)))) "
   ]
  },
  {
   "cell_type": "markdown",
   "metadata": {},
   "source": [
    "d.) Find the probability that a 6 is rolled and it is rolled again before a 7. "
   ]
  },
  {
   "cell_type": "code",
   "execution_count": 4,
   "metadata": {
    "collapsed": true
   },
   "outputs": [],
   "source": [
    "print((5/36) * ((5/36)/((5/36)+(1/6)))) "
   ]
  },
  {
   "cell_type": "markdown",
   "metadata": {},
   "source": [
    "e.) Find the probability that a 8 is rolled and it is rolled again before a 7. "
   ]
  },
  {
   "cell_type": "code",
   "execution_count": 8,
   "metadata": {
    "collapsed": true
   },
   "outputs": [],
   "source": [
    "print((5/36) * ((5/36)/((5/36)+(1/6))))"
   ]
  },
  {
   "cell_type": "markdown",
   "metadata": {},
   "source": [
    "g.) Find the probability that a 9 is rolled and it is rolled again before a 7. "
   ]
  },
  {
   "cell_type": "code",
   "execution_count": 9,
   "metadata": {
    "collapsed": true
   },
   "outputs": [],
   "source": [
    "print((1/9) * ((1/9)/((1/9)+(1/6))))"
   ]
  },
  {
   "cell_type": "markdown",
   "metadata": {},
   "source": [
    "h.) Find the probability that a 10 is rolled and it is rolled again before a 7. "
   ]
  },
  {
   "cell_type": "code",
   "execution_count": 7,
   "metadata": {
    "collapsed": true
   },
   "outputs": [],
   "source": [
    "print((1/12) * ((1/12)/((1/12)+(1/6))))"
   ]
  },
  {
   "cell_type": "markdown",
   "metadata": {},
   "source": [
    "i.) Add all of the previous quantities to find the probability of winning the pass bet.  (Decimal form is okay.)"
   ]
  },
  {
   "cell_type": "code",
   "execution_count": 23,
   "metadata": {},
   "outputs": [
    {
     "name": "stdout",
     "output_type": "stream",
     "text": [
      "0.06313131313131314\n"
     ]
    },
    {
     "ename": "TypeError",
     "evalue": "unsupported operand type(s) for +: 'float' and 'NoneType'",
     "output_type": "error",
     "traceback": [
      "\u001b[0;31m---------------------------------------------------------------------------\u001b[0m",
      "\u001b[0;31mTypeError\u001b[0m                                 Traceback (most recent call last)",
      "\u001b[0;32m<ipython-input-23-d8442496c340>\u001b[0m in \u001b[0;36m<module>\u001b[0;34m\u001b[0m\n\u001b[0;32m----> 1\u001b[0;31m \u001b[0mprint\u001b[0m\u001b[0;34m(\u001b[0m\u001b[0;34m(\u001b[0m\u001b[0;34m(\u001b[0m\u001b[0;36m5\u001b[0m\u001b[0;34m/\u001b[0m\u001b[0;36m36\u001b[0m\u001b[0;34m)\u001b[0m \u001b[0;34m*\u001b[0m \u001b[0;34m(\u001b[0m\u001b[0;34m(\u001b[0m\u001b[0;36m5\u001b[0m\u001b[0;34m/\u001b[0m\u001b[0;36m36\u001b[0m\u001b[0;34m)\u001b[0m\u001b[0;34m/\u001b[0m\u001b[0;34m(\u001b[0m\u001b[0;34m(\u001b[0m\u001b[0;36m5\u001b[0m\u001b[0;34m/\u001b[0m\u001b[0;36m36\u001b[0m\u001b[0;34m)\u001b[0m\u001b[0;34m+\u001b[0m\u001b[0;34m(\u001b[0m\u001b[0;36m1\u001b[0m\u001b[0;34m/\u001b[0m\u001b[0;36m6\u001b[0m\u001b[0;34m)\u001b[0m\u001b[0;34m)\u001b[0m\u001b[0;34m)\u001b[0m\u001b[0;34m)\u001b[0m \u001b[0;34m+\u001b[0m \u001b[0;34m(\u001b[0m\u001b[0;34m(\u001b[0m\u001b[0;36m1\u001b[0m\u001b[0;34m/\u001b[0m\u001b[0;36m9\u001b[0m\u001b[0;34m)\u001b[0m \u001b[0;34m*\u001b[0m \u001b[0;34m(\u001b[0m\u001b[0;34m(\u001b[0m\u001b[0;36m1\u001b[0m\u001b[0;34m/\u001b[0m\u001b[0;36m9\u001b[0m\u001b[0;34m)\u001b[0m\u001b[0;34m/\u001b[0m\u001b[0;34m(\u001b[0m\u001b[0;34m(\u001b[0m\u001b[0;36m1\u001b[0m\u001b[0;34m/\u001b[0m\u001b[0;36m9\u001b[0m\u001b[0;34m)\u001b[0m\u001b[0;34m+\u001b[0m\u001b[0;34m(\u001b[0m\u001b[0;36m1\u001b[0m\u001b[0;34m/\u001b[0m\u001b[0;36m6\u001b[0m\u001b[0;34m)\u001b[0m\u001b[0;34m)\u001b[0m\u001b[0;34m)\u001b[0m\u001b[0;34m)\u001b[0m \u001b[0;34m+\u001b[0m \u001b[0mprint\u001b[0m\u001b[0;34m(\u001b[0m\u001b[0;34m(\u001b[0m\u001b[0;36m5\u001b[0m\u001b[0;34m/\u001b[0m\u001b[0;36m36\u001b[0m\u001b[0;34m)\u001b[0m \u001b[0;34m*\u001b[0m \u001b[0;34m(\u001b[0m\u001b[0;34m(\u001b[0m\u001b[0;36m5\u001b[0m\u001b[0;34m/\u001b[0m\u001b[0;36m36\u001b[0m\u001b[0;34m)\u001b[0m\u001b[0;34m/\u001b[0m\u001b[0;34m(\u001b[0m\u001b[0;34m(\u001b[0m\u001b[0;36m5\u001b[0m\u001b[0;34m/\u001b[0m\u001b[0;36m36\u001b[0m\u001b[0;34m)\u001b[0m\u001b[0;34m+\u001b[0m\u001b[0;34m(\u001b[0m\u001b[0;36m1\u001b[0m\u001b[0;34m/\u001b[0m\u001b[0;36m6\u001b[0m\u001b[0;34m)\u001b[0m\u001b[0;34m)\u001b[0m\u001b[0;34m)\u001b[0m\u001b[0;34m)\u001b[0m \u001b[0;34m+\u001b[0m \u001b[0mprint\u001b[0m\u001b[0;34m(\u001b[0m\u001b[0;34m(\u001b[0m\u001b[0;36m5\u001b[0m\u001b[0;34m/\u001b[0m\u001b[0;36m36\u001b[0m\u001b[0;34m)\u001b[0m \u001b[0;34m*\u001b[0m \u001b[0;34m(\u001b[0m\u001b[0;34m(\u001b[0m\u001b[0;36m5\u001b[0m\u001b[0;34m/\u001b[0m\u001b[0;36m36\u001b[0m\u001b[0;34m)\u001b[0m\u001b[0;34m/\u001b[0m\u001b[0;34m(\u001b[0m\u001b[0;34m(\u001b[0m\u001b[0;36m5\u001b[0m\u001b[0;34m/\u001b[0m\u001b[0;36m36\u001b[0m\u001b[0;34m)\u001b[0m\u001b[0;34m+\u001b[0m\u001b[0;34m(\u001b[0m\u001b[0;36m1\u001b[0m\u001b[0;34m/\u001b[0m\u001b[0;36m6\u001b[0m\u001b[0;34m)\u001b[0m\u001b[0;34m)\u001b[0m\u001b[0;34m)\u001b[0m\u001b[0;34m)\u001b[0m \u001b[0;34m+\u001b[0m \u001b[0mprint\u001b[0m\u001b[0;34m(\u001b[0m\u001b[0;34m(\u001b[0m\u001b[0;36m5\u001b[0m\u001b[0;34m/\u001b[0m\u001b[0;36m36\u001b[0m\u001b[0;34m)\u001b[0m \u001b[0;34m*\u001b[0m \u001b[0;34m(\u001b[0m\u001b[0;34m(\u001b[0m\u001b[0;36m5\u001b[0m\u001b[0;34m/\u001b[0m\u001b[0;36m36\u001b[0m\u001b[0;34m)\u001b[0m\u001b[0;34m/\u001b[0m\u001b[0;34m(\u001b[0m\u001b[0;34m(\u001b[0m\u001b[0;36m5\u001b[0m\u001b[0;34m/\u001b[0m\u001b[0;36m36\u001b[0m\u001b[0;34m)\u001b[0m\u001b[0;34m+\u001b[0m\u001b[0;34m(\u001b[0m\u001b[0;36m1\u001b[0m\u001b[0;34m/\u001b[0m\u001b[0;36m6\u001b[0m\u001b[0;34m)\u001b[0m\u001b[0;34m)\u001b[0m\u001b[0;34m)\u001b[0m\u001b[0;34m)\u001b[0m \u001b[0;34m+\u001b[0m \u001b[0mprint\u001b[0m\u001b[0;34m(\u001b[0m\u001b[0;34m(\u001b[0m\u001b[0;36m1\u001b[0m\u001b[0;34m/\u001b[0m\u001b[0;36m9\u001b[0m\u001b[0;34m)\u001b[0m \u001b[0;34m*\u001b[0m \u001b[0;34m(\u001b[0m\u001b[0;34m(\u001b[0m\u001b[0;36m1\u001b[0m\u001b[0;34m/\u001b[0m\u001b[0;36m9\u001b[0m\u001b[0;34m)\u001b[0m\u001b[0;34m/\u001b[0m\u001b[0;34m(\u001b[0m\u001b[0;34m(\u001b[0m\u001b[0;36m1\u001b[0m\u001b[0;34m/\u001b[0m\u001b[0;36m9\u001b[0m\u001b[0;34m)\u001b[0m\u001b[0;34m+\u001b[0m\u001b[0;34m(\u001b[0m\u001b[0;36m1\u001b[0m\u001b[0;34m/\u001b[0m\u001b[0;36m6\u001b[0m\u001b[0;34m)\u001b[0m\u001b[0;34m)\u001b[0m\u001b[0;34m)\u001b[0m\u001b[0;34m)\u001b[0m \u001b[0;34m+\u001b[0m \u001b[0mprint\u001b[0m\u001b[0;34m(\u001b[0m\u001b[0;34m(\u001b[0m\u001b[0;36m1\u001b[0m\u001b[0;34m/\u001b[0m\u001b[0;36m12\u001b[0m\u001b[0;34m)\u001b[0m \u001b[0;34m*\u001b[0m \u001b[0;34m(\u001b[0m\u001b[0;34m(\u001b[0m\u001b[0;36m1\u001b[0m\u001b[0;34m/\u001b[0m\u001b[0;36m12\u001b[0m\u001b[0;34m)\u001b[0m\u001b[0;34m/\u001b[0m\u001b[0;34m(\u001b[0m\u001b[0;34m(\u001b[0m\u001b[0;36m1\u001b[0m\u001b[0;34m/\u001b[0m\u001b[0;36m12\u001b[0m\u001b[0;34m)\u001b[0m\u001b[0;34m+\u001b[0m\u001b[0;34m(\u001b[0m\u001b[0;36m1\u001b[0m\u001b[0;34m/\u001b[0m\u001b[0;36m6\u001b[0m\u001b[0;34m)\u001b[0m\u001b[0;34m)\u001b[0m\u001b[0;34m)\u001b[0m\u001b[0;34m)\u001b[0m \u001b[0;34m+\u001b[0m \u001b[0mprint\u001b[0m\u001b[0;34m(\u001b[0m\u001b[0;36m1\u001b[0m\u001b[0;34m/\u001b[0m\u001b[0;36m6\u001b[0m \u001b[0;34m+\u001b[0m \u001b[0;36m1\u001b[0m\u001b[0;34m/\u001b[0m\u001b[0;36m18\u001b[0m\u001b[0;34m)\u001b[0m\u001b[0;34m)\u001b[0m\u001b[0;34m\u001b[0m\u001b[0;34m\u001b[0m\u001b[0m\n\u001b[0m",
      "\u001b[0;31mTypeError\u001b[0m: unsupported operand type(s) for +: 'float' and 'NoneType'"
     ]
    }
   ],
   "source": [
    "total = ((1/12) * ((1/12)/((1/12)+(1/6)))) + ((1/9) * ((1/9)/((1/9)+(1/6)))) + ((5/36) * ((5/36)/((5/36)+(1/6)))) + ((5/36) * ((5/36)/((5/36)+(1/6)))) + ((1/9) * ((1/9)/((1/9)+(1/6)))) + ((1/12) * ((1/12)/((1/12)+(1/6)))) + (1/6 + 1/18)"
   ]
  },
  {
   "cell_type": "markdown",
   "metadata": {},
   "source": [
    "j. Subtract 1 - (the probability of winning) to find the probability of losing:"
   ]
  },
  {
   "cell_type": "code",
   "execution_count": 26,
   "metadata": {},
   "outputs": [
    {
     "name": "stdout",
     "output_type": "stream",
     "text": [
      "0.49292929292929294\n",
      "0.507070707070707\n"
     ]
    }
   ],
   "source": [
    "winning = ((1/12) * ((1/12)/((1/12)+(1/6)))) + ((1/9) * ((1/9)/((1/9)+(1/6)))) + ((5/36) * ((5/36)/((5/36)+(1/6)))) + ((5/36) * ((5/36)/((5/36)+(1/6)))) + ((1/9) * ((1/9)/((1/9)+(1/6)))) + ((1/12) * ((1/12)/((1/12)+(1/6)))) + (1/6 + 1/18)\n",
    "losing = 1 - winning\n",
    "print(winning)\n",
    "print(losing)"
   ]
  },
  {
   "cell_type": "markdown",
   "metadata": {},
   "source": [
    "k. The payout of the pass bet is the best payout of all the bets - it is 1:1. Evaluate the expected value of the pass bet by summing:\n",
    "\n",
    "P(winning)x(1 dollar)+P(losing)x(-1 dollar)."
   ]
  },
  {
   "cell_type": "code",
   "execution_count": 27,
   "metadata": {},
   "outputs": [
    {
     "data": {
      "text/plain": [
       "-0.014141414141414066"
      ]
     },
     "execution_count": 27,
     "metadata": {},
     "output_type": "execute_result"
    }
   ],
   "source": [
    "winning = ((1/12) * ((1/12)/((1/12)+(1/6)))) + ((1/9) * ((1/9)/((1/9)+(1/6)))) + ((5/36) * ((5/36)/((5/36)+(1/6)))) + ((5/36) * ((5/36)/((5/36)+(1/6)))) + ((1/9) * ((1/9)/((1/9)+(1/6)))) + ((1/12) * ((1/12)/((1/12)+(1/6)))) + (1/6 + 1/18)\n",
    "losing = 1 - winning\n",
    "\n",
    "winning - losing"
   ]
  }
 ],
 "metadata": {
  "kernelspec": {
   "display_name": "Python 3",
   "language": "python",
   "name": "python3"
  },
  "language_info": {
   "codemirror_mode": {
    "name": "ipython",
    "version": 3
   },
   "file_extension": ".py",
   "mimetype": "text/x-python",
   "name": "python",
   "nbconvert_exporter": "python",
   "pygments_lexer": "ipython3",
   "version": "3.7.3"
  }
 },
 "nbformat": 4,
 "nbformat_minor": 1
}
