{
 "cells": [
  {
   "cell_type": "markdown",
   "metadata": {},
   "source": [
    "Contents\n",
    "---\n",
    "- [If Then Statements](#ifthen)\n",
    "- [Nested If Then Statements](#nested)\n",
    "- [Max, Min, and Sum](#math)\n",
    "- [More Logical Operators](#morelog)\n",
    "- [Boolean variables](#booleans)"
   ]
  },
  {
   "cell_type": "markdown",
   "metadata": {},
   "source": [
    "If Statements\n",
    "---\n",
    "<a class=\"anchor\" id=\"logical\"></a>\n",
    "\n",
    "The simplest test has a single if statement, and a single statement to execute if the condition is True."
   ]
  },
  {
   "cell_type": "code",
   "execution_count": 25,
   "metadata": {},
   "outputs": [
    {
     "name": "stdout",
     "output_type": "stream",
     "text": [
      "Wow, you have a lot of dogs!\n",
      "Do you have to vacuum a lot?\n",
      "I have two dogs.\n"
     ]
    }
   ],
   "source": [
    "dogs = ['willie', 'hootz', 'peso', 'juno']\n",
    "\n",
    "if len(dogs) > 3:\n",
    "    print(\"Wow, you have a lot of dogs!\")\n",
    "    print('Do you have to vacuum a lot?')\n",
    "print('I have two dogs.')"
   ]
  },
  {
   "cell_type": "markdown",
   "metadata": {},
   "source": [
    "In this situation, nothing happens if the test does not pass."
   ]
  },
  {
   "cell_type": "code",
   "execution_count": 23,
   "metadata": {},
   "outputs": [
    {
     "name": "stdout",
     "output_type": "stream",
     "text": [
      "I have two dogs.\n"
     ]
    }
   ],
   "source": [
    "dogs = ['willie', 'hootz']\n",
    "\n",
    "if len(dogs) > 3:\n",
    "    print(\"Wow, we have a lot of dogs here!\")\n",
    "print('I have two dogs.')"
   ]
  },
  {
   "cell_type": "markdown",
   "metadata": {},
   "source": [
    "Notice that just like for loops, anything that you want to execute inside the if statement needs to be indented."
   ]
  },
  {
   "cell_type": "markdown",
   "metadata": {},
   "source": [
    "### If Then Statements\n",
    "Many times you will want to respond in two possible ways to a test. If the test evaluates to True, you will want to do one thing. If the test evaluates to False, you will want to do something else. The if-else structure lets you do that easily. Here's what it looks like:"
   ]
  },
  {
   "cell_type": "code",
   "execution_count": 26,
   "metadata": {},
   "outputs": [
    {
     "name": "stdout",
     "output_type": "stream",
     "text": [
      "Wow, we have a lot of dogs here!\n"
     ]
    }
   ],
   "source": [
    "dogs = ['willie', 'hootz', 'peso', 'juno']\n",
    "\n",
    "if len(dogs) > 3:\n",
    "    print(\"Wow, we have a lot of dogs here!\")\n",
    "else:\n",
    "    print(\"Okay, this is a reasonable number of dogs.\")"
   ]
  },
  {
   "cell_type": "markdown",
   "metadata": {},
   "source": [
    "Notice that while you will need to specify a condition after the word \"if\", you won't put anything after the word \"else\" except for a colon sign. Here's another example:"
   ]
  },
  {
   "cell_type": "code",
   "execution_count": 28,
   "metadata": {},
   "outputs": [
    {
     "name": "stdout",
     "output_type": "stream",
     "text": [
      "You don't have a dog named Rover.\n"
     ]
    }
   ],
   "source": [
    "dogs = ['willie', 'hootz', 'peso', 'juno']\n",
    "\n",
    "if 'Rover' in dogs:\n",
    "    print(\"Rover is one of your dogs.\")\n",
    "else:\n",
    "    print(\"You don't have a dog named Rover.\")"
   ]
  },
  {
   "cell_type": "markdown",
   "metadata": {},
   "source": [
    "### Exercise - Password\n",
    "Write a program that asks for a user's secret password. If the password is \"Kanye\", print \"You guessed correctly!\" Otherwise, print \"Sorry, you can't come in.\""
   ]
  },
  {
   "cell_type": "code",
   "execution_count": 1,
   "metadata": {},
   "outputs": [
    {
     "name": "stdout",
     "output_type": "stream",
     "text": [
      "Guess my password!!Kanye\n",
      "You guessed correctly!\n"
     ]
    }
   ],
   "source": [
    "password = 'Kanye'\n",
    "\n",
    "guess = input(\"Guess my password!!\")\n",
    "\n",
    "if password in guess:\n",
    "    print(\"You guessed correctly!\")\n",
    "else: \n",
    "    print(\"Sorry, you can't come in.\")"
   ]
  },
  {
   "cell_type": "markdown",
   "metadata": {},
   "source": [
    "### Exercise - height\n",
    "Write a program that asks for a user's height in inches. If the user is 71 inches, print \"You are the same height as Brad Pitt!\" Otherwise, print \"Sorry, you aren't Brad Pitt's height.\""
   ]
  },
  {
   "cell_type": "code",
   "execution_count": 3,
   "metadata": {},
   "outputs": [
    {
     "name": "stdout",
     "output_type": "stream",
     "text": [
      "Guess my password!!71\n",
      "You are the same height as Brad Pitt!\n"
     ]
    }
   ],
   "source": [
    "height = '71'\n",
    "\n",
    "guess = input(\"What is your height in inches?\")\n",
    "\n",
    "if height in guess:\n",
    "    print(\"You are the same height as Brad Pitt!\")\n",
    "else: \n",
    "    print(\"Sorry, you aren't Brad Pitt's height.\")"
   ]
  },
  {
   "cell_type": "markdown",
   "metadata": {},
   "source": [
    "### Exercise - Kanye's my friend\n",
    "Write a program that asks for a user's list of friends in a single input. Break up the input into names. If Kanye is in the list of names, print \"Kanye is your friend!\" Otherwise, print \"Sorry, you aren't friends with Kanye.\""
   ]
  },
  {
   "cell_type": "code",
   "execution_count": 6,
   "metadata": {},
   "outputs": [
    {
     "name": "stdout",
     "output_type": "stream",
     "text": [
      "Enter a list of friends seperated by a space.kim kanye\n",
      "Kanye is your friend!\n"
     ]
    }
   ],
   "source": [
    "friends = input(\"Enter a list of friends seperated by a space.\")\n",
    "friends = friends.split()\n",
    "\n",
    "if \"kanye\" in friends:\n",
    "    print(\"Kanye is your friend!\")\n",
    "else:\n",
    "    print(\"Sorry, you aren't friends with Kanye.\")"
   ]
  },
  {
   "cell_type": "markdown",
   "metadata": {},
   "source": [
    "### Exercise - X\n",
    "Given a list of strings, return the strings sorted in alphabetical order, except any of the strings beginning with an x should come first (in alphabetical order). For example, the list \"apple\", \"fruit\", \"xyz\", \"banana\", \"xanadu\" would become \"xanadu\", \"xyz\", \"apple\", \"banana\", \"fruit\""
   ]
  },
  {
   "cell_type": "code",
   "execution_count": 27,
   "metadata": {},
   "outputs": [
    {
     "ename": "KeyboardInterrupt",
     "evalue": "",
     "output_type": "error",
     "traceback": [
      "\u001b[0;31m---------------------------------------------------------------------------\u001b[0m",
      "\u001b[0;31mKeyboardInterrupt\u001b[0m                         Traceback (most recent call last)",
      "\u001b[0;32m~/anaconda3/lib/python3.7/site-packages/ipykernel/kernelbase.py\u001b[0m in \u001b[0;36m_input_request\u001b[0;34m(self, prompt, ident, parent, password)\u001b[0m\n\u001b[1;32m    884\u001b[0m             \u001b[0;32mtry\u001b[0m\u001b[0;34m:\u001b[0m\u001b[0;34m\u001b[0m\u001b[0;34m\u001b[0m\u001b[0m\n\u001b[0;32m--> 885\u001b[0;31m                 \u001b[0mident\u001b[0m\u001b[0;34m,\u001b[0m \u001b[0mreply\u001b[0m \u001b[0;34m=\u001b[0m \u001b[0mself\u001b[0m\u001b[0;34m.\u001b[0m\u001b[0msession\u001b[0m\u001b[0;34m.\u001b[0m\u001b[0mrecv\u001b[0m\u001b[0;34m(\u001b[0m\u001b[0mself\u001b[0m\u001b[0;34m.\u001b[0m\u001b[0mstdin_socket\u001b[0m\u001b[0;34m,\u001b[0m \u001b[0;36m0\u001b[0m\u001b[0;34m)\u001b[0m\u001b[0;34m\u001b[0m\u001b[0;34m\u001b[0m\u001b[0m\n\u001b[0m\u001b[1;32m    886\u001b[0m             \u001b[0;32mexcept\u001b[0m \u001b[0mException\u001b[0m\u001b[0;34m:\u001b[0m\u001b[0;34m\u001b[0m\u001b[0;34m\u001b[0m\u001b[0m\n",
      "\u001b[0;32m~/anaconda3/lib/python3.7/site-packages/jupyter_client/session.py\u001b[0m in \u001b[0;36mrecv\u001b[0;34m(self, socket, mode, content, copy)\u001b[0m\n\u001b[1;32m    802\u001b[0m         \u001b[0;32mtry\u001b[0m\u001b[0;34m:\u001b[0m\u001b[0;34m\u001b[0m\u001b[0;34m\u001b[0m\u001b[0m\n\u001b[0;32m--> 803\u001b[0;31m             \u001b[0mmsg_list\u001b[0m \u001b[0;34m=\u001b[0m \u001b[0msocket\u001b[0m\u001b[0;34m.\u001b[0m\u001b[0mrecv_multipart\u001b[0m\u001b[0;34m(\u001b[0m\u001b[0mmode\u001b[0m\u001b[0;34m,\u001b[0m \u001b[0mcopy\u001b[0m\u001b[0;34m=\u001b[0m\u001b[0mcopy\u001b[0m\u001b[0;34m)\u001b[0m\u001b[0;34m\u001b[0m\u001b[0;34m\u001b[0m\u001b[0m\n\u001b[0m\u001b[1;32m    804\u001b[0m         \u001b[0;32mexcept\u001b[0m \u001b[0mzmq\u001b[0m\u001b[0;34m.\u001b[0m\u001b[0mZMQError\u001b[0m \u001b[0;32mas\u001b[0m \u001b[0me\u001b[0m\u001b[0;34m:\u001b[0m\u001b[0;34m\u001b[0m\u001b[0;34m\u001b[0m\u001b[0m\n",
      "\u001b[0;32m~/anaconda3/lib/python3.7/site-packages/zmq/sugar/socket.py\u001b[0m in \u001b[0;36mrecv_multipart\u001b[0;34m(self, flags, copy, track)\u001b[0m\n\u001b[1;32m    469\u001b[0m         \"\"\"\n\u001b[0;32m--> 470\u001b[0;31m         \u001b[0mparts\u001b[0m \u001b[0;34m=\u001b[0m \u001b[0;34m[\u001b[0m\u001b[0mself\u001b[0m\u001b[0;34m.\u001b[0m\u001b[0mrecv\u001b[0m\u001b[0;34m(\u001b[0m\u001b[0mflags\u001b[0m\u001b[0;34m,\u001b[0m \u001b[0mcopy\u001b[0m\u001b[0;34m=\u001b[0m\u001b[0mcopy\u001b[0m\u001b[0;34m,\u001b[0m \u001b[0mtrack\u001b[0m\u001b[0;34m=\u001b[0m\u001b[0mtrack\u001b[0m\u001b[0;34m)\u001b[0m\u001b[0;34m]\u001b[0m\u001b[0;34m\u001b[0m\u001b[0;34m\u001b[0m\u001b[0m\n\u001b[0m\u001b[1;32m    471\u001b[0m         \u001b[0;31m# have first part already, only loop while more to receive\u001b[0m\u001b[0;34m\u001b[0m\u001b[0;34m\u001b[0m\u001b[0;34m\u001b[0m\u001b[0m\n",
      "\u001b[0;32mzmq/backend/cython/socket.pyx\u001b[0m in \u001b[0;36mzmq.backend.cython.socket.Socket.recv\u001b[0;34m()\u001b[0m\n",
      "\u001b[0;32mzmq/backend/cython/socket.pyx\u001b[0m in \u001b[0;36mzmq.backend.cython.socket.Socket.recv\u001b[0;34m()\u001b[0m\n",
      "\u001b[0;32mzmq/backend/cython/socket.pyx\u001b[0m in \u001b[0;36mzmq.backend.cython.socket._recv_copy\u001b[0;34m()\u001b[0m\n",
      "\u001b[0;32m~/anaconda3/lib/python3.7/site-packages/zmq/backend/cython/checkrc.pxd\u001b[0m in \u001b[0;36mzmq.backend.cython.checkrc._check_rc\u001b[0;34m()\u001b[0m\n",
      "\u001b[0;31mKeyboardInterrupt\u001b[0m: ",
      "\nDuring handling of the above exception, another exception occurred:\n",
      "\u001b[0;31mKeyboardInterrupt\u001b[0m                         Traceback (most recent call last)",
      "\u001b[0;32m<ipython-input-27-1ac76cde4891>\u001b[0m in \u001b[0;36m<module>\u001b[0;34m\u001b[0m\n\u001b[0;32m----> 1\u001b[0;31m \u001b[0mwords\u001b[0m \u001b[0;34m=\u001b[0m \u001b[0minput\u001b[0m\u001b[0;34m(\u001b[0m\u001b[0;34m\"Enter a list of words\"\u001b[0m\u001b[0;34m)\u001b[0m\u001b[0;34m\u001b[0m\u001b[0;34m\u001b[0m\u001b[0m\n\u001b[0m\u001b[1;32m      2\u001b[0m \u001b[0mwords\u001b[0m \u001b[0;34m=\u001b[0m \u001b[0mwords\u001b[0m\u001b[0;34m.\u001b[0m\u001b[0msplit\u001b[0m\u001b[0;34m(\u001b[0m\u001b[0;34m)\u001b[0m\u001b[0;34m\u001b[0m\u001b[0;34m\u001b[0m\u001b[0m\n\u001b[1;32m      3\u001b[0m \u001b[0mwords\u001b[0m\u001b[0;34m.\u001b[0m\u001b[0msort\u001b[0m\u001b[0;34m(\u001b[0m\u001b[0;34m)\u001b[0m\u001b[0;34m\u001b[0m\u001b[0;34m\u001b[0m\u001b[0m\n\u001b[1;32m      4\u001b[0m \u001b[0;34m\u001b[0m\u001b[0m\n\u001b[1;32m      5\u001b[0m \u001b[0mcounter\u001b[0m\u001b[0;34m=\u001b[0m\u001b[0;36m0\u001b[0m\u001b[0;34m\u001b[0m\u001b[0;34m\u001b[0m\u001b[0m\n",
      "\u001b[0;32m~/anaconda3/lib/python3.7/site-packages/ipykernel/kernelbase.py\u001b[0m in \u001b[0;36mraw_input\u001b[0;34m(self, prompt)\u001b[0m\n\u001b[1;32m    858\u001b[0m             \u001b[0mself\u001b[0m\u001b[0;34m.\u001b[0m\u001b[0m_parent_ident\u001b[0m\u001b[0;34m,\u001b[0m\u001b[0;34m\u001b[0m\u001b[0;34m\u001b[0m\u001b[0m\n\u001b[1;32m    859\u001b[0m             \u001b[0mself\u001b[0m\u001b[0;34m.\u001b[0m\u001b[0m_parent_header\u001b[0m\u001b[0;34m,\u001b[0m\u001b[0;34m\u001b[0m\u001b[0;34m\u001b[0m\u001b[0m\n\u001b[0;32m--> 860\u001b[0;31m             \u001b[0mpassword\u001b[0m\u001b[0;34m=\u001b[0m\u001b[0;32mFalse\u001b[0m\u001b[0;34m,\u001b[0m\u001b[0;34m\u001b[0m\u001b[0;34m\u001b[0m\u001b[0m\n\u001b[0m\u001b[1;32m    861\u001b[0m         )\n\u001b[1;32m    862\u001b[0m \u001b[0;34m\u001b[0m\u001b[0m\n",
      "\u001b[0;32m~/anaconda3/lib/python3.7/site-packages/ipykernel/kernelbase.py\u001b[0m in \u001b[0;36m_input_request\u001b[0;34m(self, prompt, ident, parent, password)\u001b[0m\n\u001b[1;32m    888\u001b[0m             \u001b[0;32mexcept\u001b[0m \u001b[0mKeyboardInterrupt\u001b[0m\u001b[0;34m:\u001b[0m\u001b[0;34m\u001b[0m\u001b[0;34m\u001b[0m\u001b[0m\n\u001b[1;32m    889\u001b[0m                 \u001b[0;31m# re-raise KeyboardInterrupt, to truncate traceback\u001b[0m\u001b[0;34m\u001b[0m\u001b[0;34m\u001b[0m\u001b[0;34m\u001b[0m\u001b[0m\n\u001b[0;32m--> 890\u001b[0;31m                 \u001b[0;32mraise\u001b[0m \u001b[0mKeyboardInterrupt\u001b[0m\u001b[0;34m\u001b[0m\u001b[0;34m\u001b[0m\u001b[0m\n\u001b[0m\u001b[1;32m    891\u001b[0m             \u001b[0;32melse\u001b[0m\u001b[0;34m:\u001b[0m\u001b[0;34m\u001b[0m\u001b[0;34m\u001b[0m\u001b[0m\n\u001b[1;32m    892\u001b[0m                 \u001b[0;32mbreak\u001b[0m\u001b[0;34m\u001b[0m\u001b[0;34m\u001b[0m\u001b[0m\n",
      "\u001b[0;31mKeyboardInterrupt\u001b[0m: "
     ]
    }
   ],
   "source": [
    "words = input(\"Enter a list of words\")\n",
    "words = words.split()\n",
    "words.sort()\n",
    "\n",
    "counter=0\n",
    "\n",
    "for i in words[::]:\n",
    "    if i[0] == 'x':\n",
    "        words.remove(i)\n",
    "        words.insert(counter, i)\n",
    "        counter = counter + 1\n",
    "print(words)\n",
    "    "
   ]
  },
  {
   "cell_type": "markdown",
   "metadata": {},
   "source": [
    "### Exercise - remove adjacents\n",
    "Write a program that removes adjacent numbers next to each other. For example, [1,2,2,3] would reduce to [1,2,3] and [1,2,2,3,2] would reduce to [1,2,3,2]."
   ]
  },
  {
   "cell_type": "code",
   "execution_count": 39,
   "metadata": {},
   "outputs": [
    {
     "name": "stdout",
     "output_type": "stream",
     "text": [
      "Enter in a list of numbers seperated by a space in ascending order.1 2 2 4\n",
      "['1', '2', '4']\n"
     ]
    }
   ],
   "source": [
    "numbers = input(\"Enter in a list of numbers seperated by a space in ascending order.\")\n",
    "numbers = numbers.split()\n",
    "\n",
    "for i in range(len(numbers)):\n",
    "    if i+1 == len(numbers):\n",
    "        break\n",
    "    if numbers[i] == numbers[i+1]:\n",
    "        del numbers[i]\n",
    "print(numbers)\n",
    "        \n",
    "    "
   ]
  },
  {
   "cell_type": "markdown",
   "metadata": {},
   "source": [
    "### If-Elif-Then\n",
    "If we have more than two options, we'll want to use if for the first statement, else for the last statement, and all statements in between will be \"else if\", denoted \"elif.\" Here's any example:"
   ]
  },
  {
   "cell_type": "code",
   "execution_count": 30,
   "metadata": {},
   "outputs": [
    {
     "name": "stdout",
     "output_type": "stream",
     "text": [
      "Wow, we have a lot of dogs here!\n"
     ]
    }
   ],
   "source": [
    "dogs = ['willie', 'hootz', 'peso', 'monty', 'juno']\n",
    "\n",
    "if len(dogs) >= 6:\n",
    "    print(\"Holy mackerel, we might as well start a dog hostel!\")\n",
    "elif len(dogs) >= 4:\n",
    "    print(\"Wow, we have a lot of dogs here!\")\n",
    "elif len(dogs) >= 2:\n",
    "    print(\"Hmm, you seem to really like dogs.\")\n",
    "else:\n",
    "    print(\"Okay, this is a reasonable number of dogs.\")"
   ]
  },
  {
   "cell_type": "markdown",
   "metadata": {},
   "source": [
    "Notice that the statements get executed in the order that they are listed. If we had reversed the statements, we might have a problem if we wanted to specify that she has at least four dogs:"
   ]
  },
  {
   "cell_type": "code",
   "execution_count": 31,
   "metadata": {},
   "outputs": [
    {
     "name": "stdout",
     "output_type": "stream",
     "text": [
      "Hmm, you seem to really like dogs.\n"
     ]
    }
   ],
   "source": [
    "dogs = ['willie', 'hootz', 'peso', 'monty', 'juno']\n",
    "\n",
    "if len(dogs) >= 2:\n",
    "    print(\"Hmm, you seem to really like dogs.\")\n",
    "elif len(dogs) >= 4:\n",
    "    print(\"Wow, we have a lot of dogs here!\")\n",
    "elif len(dogs) >= 6:\n",
    "    print(\"Holy mackerel, we might as well start a dog hostel!\")\n",
    "else:\n",
    "    print(\"Okay, this is a reasonable number of dogs.\")"
   ]
  },
  {
   "cell_type": "markdown",
   "metadata": {},
   "source": [
    "We can be more specific by using two-sided inequalities. Then, it won't matter what order we list these statements in:"
   ]
  },
  {
   "cell_type": "code",
   "execution_count": 32,
   "metadata": {},
   "outputs": [
    {
     "name": "stdout",
     "output_type": "stream",
     "text": [
      "Wow, we have a lot of dogs here!\n"
     ]
    }
   ],
   "source": [
    "dogs = ['willie', 'hootz', 'peso', 'monty', 'juno']\n",
    "\n",
    "if 4 > len(dogs) >= 2:\n",
    "    print(\"Hmm, you seem to really like dogs.\")\n",
    "elif 6 > len(dogs) >= 4:\n",
    "    print(\"Wow, we have a lot of dogs here!\")\n",
    "elif len(dogs) >= 6:\n",
    "    print(\"Holy mackerel, we might as well start a dog hostel!\")\n",
    "else:\n",
    "    print(\"Okay, this is a reasonable number of dogs.\")"
   ]
  },
  {
   "cell_type": "markdown",
   "metadata": {},
   "source": [
    "### Exercise - How big is your number?\n",
    "Write a program that takes in a user's number and returns a sentence about whether it is positive, negative, or zero. For instance, if the user enters the number 100 your program should return \"100 is positive.\""
   ]
  },
  {
   "cell_type": "code",
   "execution_count": 43,
   "metadata": {},
   "outputs": [
    {
     "name": "stdout",
     "output_type": "stream",
     "text": [
      "Enter a number.-1\n",
      "-1 is a negative number\n"
     ]
    }
   ],
   "source": [
    "number = int(input(\"Enter a number.\"))\n",
    "\n",
    "if int(number) > 0:\n",
    "    print(f\"{number} is a positive number\")\n",
    "\n",
    "elif int(number) == 0:\n",
    "     print(f\"{number} is 0\")\n",
    "\n",
    "else:\n",
    "    print(f\"{number} is a negative number\")"
   ]
  },
  {
   "cell_type": "markdown",
   "metadata": {},
   "source": [
    "### Exercise -  Three is a Crowd\n",
    "- Make a list of names that includes at least four people.\n",
    "- Write an if test that prints the message \"Wow, the room is crowded\" if there are more than three people in your list and \"This room is pretty dead\" if there are less than or equal to three people.\n",
    "- Modify your list so that there are only two people in it. Use one of the methods for removing people from the list, don't just redefine the list.\n",
    "- Run your if test again. The output should now be \"This room is pretty dead\", because there are less than three people in the list."
   ]
  },
  {
   "cell_type": "code",
   "execution_count": 48,
   "metadata": {},
   "outputs": [
    {
     "name": "stdout",
     "output_type": "stream",
     "text": [
      "Enter of friends, seperated by spacea b c d e f g\n",
      "Wow, the room is crowded\n",
      "['f', 'g']\n",
      "This room is pretty dead\n"
     ]
    }
   ],
   "source": [
    "friends = input(\"Enter of friends, seperated by space\")\n",
    "friends = friends.split()\n",
    "\n",
    "if len(friends) > 3:\n",
    "    print(\"Wow, the room is crowded\")\n",
    "else:\n",
    "    print(\"This room is pretty dead\")\n",
    "\n",
    "del friends[:-2]\n",
    "\n",
    "if len(friends) > 3:\n",
    "    print(\"Wow, the room is crowded\")\n",
    "else:\n",
    "    print(\"This room is pretty dead\")\n"
   ]
  },
  {
   "cell_type": "markdown",
   "metadata": {},
   "source": [
    "### Exercise - Crowd Part II\n",
    "- Add some names to your list, so that there are at least six people in the list.\n",
    "- Modify your tests so that\n",
    "    - If there are more than 5 people, a message is printed about there being a mob in the room.\n",
    "    - If there are 3-5 people, a message is printed about the room being crowded.\n",
    "    - If there are 1 or 2 people, a message is printed about the room not being crowded.\n",
    "    - If there are no people in the room, a message is printed abou the room being empty."
   ]
  },
  {
   "cell_type": "code",
   "execution_count": 55,
   "metadata": {},
   "outputs": [
    {
     "name": "stdout",
     "output_type": "stream",
     "text": [
      "Enter friends seperated by a spacetim\n",
      "The room is not crowded.\n"
     ]
    }
   ],
   "source": [
    "people = input(\"Enter friends seperated by a space\")\n",
    "people = people.split()\n",
    "\n",
    "if len(people) > 5:\n",
    "    print(\"There is a mob in the room.\")\n",
    "\n",
    "elif len(people) > 3:\n",
    "    print(\"The room is crowded\")\n",
    "\n",
    "elif len(people) == 1 or 2:\n",
    "    print(\"The room is not crowded.\")\n",
    "    \n",
    "else: \n",
    "    print(\"There is no one in the room.\")"
   ]
  },
  {
   "cell_type": "markdown",
   "metadata": {},
   "source": [
    "### Nested If Statements\n",
    "We can insert if statements within other if statements. Look at the following example:"
   ]
  },
  {
   "cell_type": "code",
   "execution_count": 36,
   "metadata": {},
   "outputs": [
    {
     "name": "stdout",
     "output_type": "stream",
     "text": [
      "Is it sunny out (yes/no) ?yes\n",
      "Is it really humid? (yes/no)yes\n",
      "It's too hot to go outside.\n"
     ]
    }
   ],
   "source": [
    "sunny = input('Is it sunny out (yes/no) ?')\n",
    "if sunny == 'yes':\n",
    "    temp = input('Is it really humid? (yes/no)? ')\n",
    "    if temp == 'yes':\n",
    "        print(\"It's too hot to go outside.\")\n",
    "    else:\n",
    "        print(\"Let's go play!\")\n",
    "else:\n",
    "    print(\"It isn't sunny out let's go to the movies.\")"
   ]
  },
  {
   "cell_type": "markdown",
   "metadata": {},
   "source": [
    "Here's another example:\n"
   ]
  },
  {
   "cell_type": "code",
   "execution_count": 37,
   "metadata": {},
   "outputs": [
    {
     "name": "stdout",
     "output_type": "stream",
     "text": [
      "What is your number? 1000\n",
      "You have a REALLY big positive number.\n"
     ]
    }
   ],
   "source": [
    "number = int(input('What is your number? '))\n",
    "if number < 0:\n",
    "    if number < -100:\n",
    "        print(\"You have a REALLY negative number.\")\n",
    "    else:\n",
    "        print('You have a small negative number.')\n",
    "elif number == 0:\n",
    "    print('Your number is zero.')\n",
    "else:\n",
    "    if number > 100: \n",
    "        print('You have a REALLY big positive number.')\n",
    "    else:\n",
    "        print('You have a small positive number.')"
   ]
  },
  {
   "cell_type": "markdown",
   "metadata": {},
   "source": [
    "### Exercise - Lunch\n",
    "Write a program that asks what is for lunch. If it is pizza, print \"That's my favorite!\" and ask how long the line is. If the line is greater than 10 people, print \"We better get there early then.\" If it is pasta, print \"That's my second favorite!\" If it is anything else, print \"Let's go to McDonalds instead.\""
   ]
  },
  {
   "cell_type": "code",
   "execution_count": null,
   "metadata": {
    "collapsed": true
   },
   "outputs": [],
   "source": [
    "lunch = input(\"What is for lunch?\")\n",
    "\n",
    "if 'pizza' in lunch:\n",
    "    print(\"That's my favorite!\")\n",
    "    line int(input(\"How long is the line?\"))\n",
    "    if line > 10:\n",
    "        print(\"We better get there early then.\")\n",
    "elif 'pasta' in lunch:\n",
    "    print(\"That's my second favorite!\")\n",
    "else:\n",
    "    print(\"Let's go to McDonalds instead.\"\")\n",
    "   \n"
   ]
  },
  {
   "cell_type": "markdown",
   "metadata": {},
   "source": [
    "### Exercise - Exercise\n",
    "Write a program that asks if it is sunny or not. If it is sunny, ask for what the temperature is. If the temperature is greater than 80, print \"It's too hot to exercise.\" If it is between 70 and 80 inclusive, print \"We should wear sunscreen.\" If it is less than 70, print \"I love exercising when it is cool!\" If it is not sunny out, print \"Meh, let's go to the gym instead.\""
   ]
  },
  {
   "cell_type": "code",
   "execution_count": 5,
   "metadata": {
    "collapsed": true
   },
   "outputs": [],
   "source": [
    "choice = input(\"Is it sunny?\")\n",
    "\n",
    "if 'yes' in choice:\n",
    "    temp = int(input(\"What is the temperature?\"))\n",
    "    if temp > 80:\n",
    "        print(\"It's too hot to exercise.\"\")\n",
    "    elif temp > 70:\n",
    "        print(\"We should wear sunscreen.\")\n",
    "    else:\n",
    "        print(\"I love exercising when it is cool!\")\n",
    "else:\n",
    "    print(\"Meh, let's go to the gym instead.\")"
   ]
  },
  {
   "cell_type": "markdown",
   "metadata": {},
   "source": [
    "### More String Functions\n",
    "There are many built-in string functions that return True or False. Look at the following examples:"
   ]
  },
  {
   "cell_type": "code",
   "execution_count": 42,
   "metadata": {},
   "outputs": [
    {
     "name": "stdout",
     "output_type": "stream",
     "text": [
      "True\n",
      "False\n"
     ]
    }
   ],
   "source": [
    "name = 'kanye'\n",
    "print(name.islower())\n",
    "print(name.isupper())"
   ]
  },
  {
   "cell_type": "code",
   "execution_count": 43,
   "metadata": {},
   "outputs": [
    {
     "name": "stdout",
     "output_type": "stream",
     "text": [
      "False\n",
      "True\n"
     ]
    }
   ],
   "source": [
    "name = 'KANYE'\n",
    "print(name.islower())\n",
    "print(name.isupper())"
   ]
  },
  {
   "cell_type": "markdown",
   "metadata": {},
   "source": [
    "Note: .islower() and .isupper() tests for whether or not the string is all lower or upper case. If you actually want to convert the string into a certain case, you need to use .upper() or .lower():"
   ]
  },
  {
   "cell_type": "code",
   "execution_count": 51,
   "metadata": {},
   "outputs": [
    {
     "name": "stdout",
     "output_type": "stream",
     "text": [
      "False\n",
      "kanye\n",
      "True\n"
     ]
    }
   ],
   "source": [
    "name = 'KANYE'\n",
    "print(name.islower())\n",
    "lowername = name.lower()\n",
    "print(lowername)\n",
    "print(lowername.islower())"
   ]
  },
  {
   "cell_type": "markdown",
   "metadata": {},
   "source": [
    "We can also test whether strings can be classified as numbers:"
   ]
  },
  {
   "cell_type": "code",
   "execution_count": 47,
   "metadata": {},
   "outputs": [
    {
     "name": "stdout",
     "output_type": "stream",
     "text": [
      "False\n"
     ]
    }
   ],
   "source": [
    "name = 'KANYE'\n",
    "print(name.isdigit())"
   ]
  },
  {
   "cell_type": "code",
   "execution_count": 48,
   "metadata": {},
   "outputs": [
    {
     "name": "stdout",
     "output_type": "stream",
     "text": [
      "True\n"
     ]
    }
   ],
   "source": [
    "name = '1245'\n",
    "print(name.isdigit())"
   ]
  },
  {
   "cell_type": "markdown",
   "metadata": {},
   "source": [
    "### Exercise - caps?\n",
    "Write a program that takes in a user's word and decide if it is in all CAPS or not.\n"
   ]
  },
  {
   "cell_type": "code",
   "execution_count": 58,
   "metadata": {},
   "outputs": [
    {
     "name": "stdout",
     "output_type": "stream",
     "text": [
      "Enter a word.HELLO\n",
      "The word is in caps.\n"
     ]
    }
   ],
   "source": [
    "word = input(\"Enter a word.\")\n",
    "\n",
    "if word.upper() == word:\n",
    "    print(\"The word is in caps.\")\n",
    "else:\n",
    "    print(\"The word is not in caps.\")"
   ]
  },
  {
   "cell_type": "markdown",
   "metadata": {},
   "source": [
    "### Exercise - proper noun\n",
    "Write a program that takes in a user's word and decides if the first letter is in caps or not."
   ]
  },
  {
   "cell_type": "code",
   "execution_count": 59,
   "metadata": {},
   "outputs": [
    {
     "name": "stdout",
     "output_type": "stream",
     "text": [
      "Enter a word.Hello\n",
      "The word is in title.\n"
     ]
    }
   ],
   "source": [
    "word = input(\"Enter a word.\")\n",
    "\n",
    "if word.title() == word:\n",
    "    print(\"The word is in title.\")\n",
    "else:\n",
    "    print(\"The word is not in title.\")"
   ]
  },
  {
   "cell_type": "markdown",
   "metadata": {},
   "source": [
    "### Exercise - weird noun\n",
    "Write a program that takes in a user's word and decides if the LAST letter is in caps or not."
   ]
  },
  {
   "cell_type": "code",
   "execution_count": 4,
   "metadata": {},
   "outputs": [
    {
     "name": "stdout",
     "output_type": "stream",
     "text": [
      "Enter a word.hello\n",
      "The last letter of the word is not capitalized\n"
     ]
    }
   ],
   "source": [
    "word = input(\"Enter a word.\")\n",
    "word = word[-1]\n",
    "checkyboi = word[-1].title()\n",
    "\n",
    "if word == checkyboi:\n",
    "    print(\"The last letter of the word is capitalized.\")\n",
    "else:\n",
    "    print(\"The last letter of the word is not capitalized\")"
   ]
  },
  {
   "cell_type": "markdown",
   "metadata": {},
   "source": [
    "### Exercise - Triple\n",
    "Write a program that asks the user for input and tests whether or not the string is a number or not. If it is a number, then print out triple the number. If it can't be classified as a number, then return the word repeated three times. Remember: you can repeat a word by multiplying a word by a number."
   ]
  },
  {
   "cell_type": "code",
   "execution_count": 6,
   "metadata": {},
   "outputs": [
    {
     "name": "stdout",
     "output_type": "stream",
     "text": [
      "Gimme a fat input.hi\n",
      "hihihi\n"
     ]
    }
   ],
   "source": [
    "triple = input(\"Gimme a fat input.\")\n",
    "\n",
    "if triple.isdigit():\n",
    "    print(int(triple)*3)\n",
    "else:\n",
    "    print(triple*3)"
   ]
  },
  {
   "cell_type": "markdown",
   "metadata": {},
   "source": [
    "### Exercise - Find Kanye\n",
    "Write a program that asks the user for a sentence. If the capitalized word \"KANYE\" is in the sentence, print \"There is a big Kanye here!\" If the lower case word \"kanye\" is in the sentence, print \"There is a tiny kanye here!\" If \"KanYe\" is in mixed case, print \"There is a normal sized Kanye here.\" If there is no Kanye in the sentence, print \"Kanye ghosted us.\" Assume that there is AT MOST ONE version of kanye in the sentence."
   ]
  },
  {
   "cell_type": "code",
   "execution_count": 11,
   "metadata": {},
   "outputs": [
    {
     "name": "stdout",
     "output_type": "stream",
     "text": [
      "Enter a sentencekAnYe\n",
      "There is a normal sized Kanye here\n"
     ]
    }
   ],
   "source": [
    "sentence = input(\"Enter a sentence.\")\n",
    "\n",
    "\n",
    "word = 'kanye'\n",
    "\n",
    "if word.upper() in sentence:\n",
    "    print(\"There is a big Kanye here!\")\n",
    "elif word in sentence:\n",
    "    print(\"There is a tiny kanye here!\")\n",
    "elif word in sentence.lower(): \n",
    "    print(\"There is a normal sized Kanye here\")\n",
    "else:\n",
    "    print(\"Kanye ghosted us.\")\n",
    "    \n",
    "    "
   ]
  },
  {
   "cell_type": "markdown",
   "metadata": {},
   "source": [
    "### Exercise - Find Kanye again\n",
    "Write a program that asks the user for a sentence. If the capitalized word \"KANYE\" is in the sentence, print \"There is a big Kanye here!\" If the lower case word \"kanye\" is in the sentence, print \"There is a tiny kanye here!\" If \"KanYe\" is in mixed case, print \"There is a normal sized Kanye here.\" If there is no Kanye in the sentence, print \"Kanye ghosted us.\" Assume that there can be MULTIPLE kanyes in the sentence. For instance, if the sentence is \"kanye Kanye\" your program should print \"There is a tiny kanye here! There is a normal sized Kanye here!\""
   ]
  },
  {
   "cell_type": "code",
   "execution_count": 14,
   "metadata": {},
   "outputs": [
    {
     "name": "stdout",
     "output_type": "stream",
     "text": [
      "Enter a sentence.kanye kanye kanye\n",
      "There is a tiny kanye here!\n",
      "There is a tiny kanye here!\n",
      "There is a tiny kanye here!\n"
     ]
    }
   ],
   "source": [
    "sentence = input(\"Enter a sentence.\")\n",
    "sentence = sentence.split()\n",
    "\n",
    "word = 'kanye'\n",
    "\n",
    "for i in range(len(sentence)):\n",
    "    if word.upper() == sentence[i]:\n",
    "        print(\"There is a big Kanye here!\")\n",
    "    elif word == sentence[i]:\n",
    "        print(\"There is a tiny kanye here!\")\n",
    "    elif word == sentence[i].lower(): \n",
    "        print(\"There is a normal sized Kanye here\")\n",
    "    else:\n",
    "        print(\"Kanye ghosted us.\")"
   ]
  },
  {
   "cell_type": "markdown",
   "metadata": {},
   "source": [
    "Some Math\n",
    "---\n",
    "<a class=\"anchor\" id=\"math\"></a>\n"
   ]
  },
  {
   "cell_type": "markdown",
   "metadata": {},
   "source": [
    "There are some built in math functions that are useful. Consider the list of numbers:"
   ]
  },
  {
   "cell_type": "code",
   "execution_count": 62,
   "metadata": {},
   "outputs": [
    {
     "name": "stdout",
     "output_type": "stream",
     "text": [
      "5000\n",
      "-100\n",
      "4922\n"
     ]
    }
   ],
   "source": [
    "numbers = [5, 7, 1, 9, -100, 5000, 0]\n",
    "print(max(numbers))\n",
    "print(min(numbers))\n",
    "print(sum(numbers))\n"
   ]
  },
  {
   "cell_type": "markdown",
   "metadata": {},
   "source": [
    "### Exercise - Some calculations\n",
    "Take in a user's list of numbers.\n",
    "If the max number is greater than 1000, print \"You've got a really big number in your list.\" If the minimum number is less than -1000, print \"You've got a really small number in your list.\" If the sum of the list is positive, print \"The sum of your terms is positive\", or else, print that it is negative."
   ]
  },
  {
   "cell_type": "code",
   "execution_count": 27,
   "metadata": {},
   "outputs": [
    {
     "name": "stdout",
     "output_type": "stream",
     "text": [
      "big number\n",
      "sum is positive\n"
     ]
    }
   ],
   "source": [
    "#insert some calcuations\n",
    "numbers = [5,7,100,5, 1001]\n",
    "if max(numbers) > 1000:\n",
    "    print('big number')\n",
    "if min(numbers)< -1000:\n",
    "    print('small number')\n",
    "if sum(numbers) > 0:\n",
    "    print('sum is positive')\n",
    "if sum (numbers) < 0:\n",
    "    print('sum is negative')"
   ]
  },
  {
   "cell_type": "markdown",
   "metadata": {},
   "source": [
    "### Exercise - Some calculations #2\n",
    "Take in a user's list of numbers.\n",
    "Print whether the sum of the numbers is positive, zero, or negative."
   ]
  },
  {
   "cell_type": "code",
   "execution_count": 7,
   "metadata": {
    "collapsed": true
   },
   "outputs": [],
   "source": [
    "numbers = input(\"Enter a list of numbers seperated by a space.\")\n",
    "numbers = numbers.split()\n",
    "\n",
    "summygang = sum(numbers)\n",
    "\n",
    "if summygang > 0:\n",
    "    print(\"The sum is positive\")\n",
    "elif summygang < 0:\n",
    "    print(\"The sum is negative\")\n",
    "else:\n",
    "    print(\"The sum is equal to 0\")"
   ]
  },
  {
   "cell_type": "markdown",
   "metadata": {},
   "source": [
    "### Exercise - Expenses\n",
    "Take in a user's list of expenses on one line. If the sum of the expenses is greater than $100, print \"Stop spending so much money!\" Otherwise, print, \"You budget well.\""
   ]
  },
  {
   "cell_type": "code",
   "execution_count": null,
   "metadata": {
    "collapsed": true
   },
   "outputs": [],
   "source": [
    "numbers = input(\"Enter a list of your expenses seperated by a space.\")\n",
    "numbers = numbers.split()\n",
    "\n",
    "summygang = sum(numbers)\n",
    "\n",
    "if summygang > 100:\n",
    "    print(\"Stop spending so much money!\")\n",
    "else:\n",
    "    print(\"You budget well.\")"
   ]
  },
  {
   "cell_type": "markdown",
   "metadata": {},
   "source": [
    "### Exercise - Expenses 2\n",
    "Take in a user's list of expenses on one line. Suppose they originally had $100 in their account. Deduct the user's expenses. If their balance is still positive, print \"You've budgeted well.\" If the balance is zero, print, \"You're broke!\" If it's negative, print \"You owe money!\""
   ]
  },
  {
   "cell_type": "code",
   "execution_count": null,
   "metadata": {
    "collapsed": true
   },
   "outputs": [],
   "source": [
    "numbers = input(\"Enter a list of your expenses seperated by a space.\")\n",
    "numbers = numbers.split()\n",
    "\n",
    "summygang = 100 - sum(numbers)\n",
    "\n",
    "if summygang > 0:\n",
    "    print(\"ou've budgeted well.\")\n",
    "elif summygang < 0:\n",
    "    print(\"You're broke!\")\n",
    "else:\n",
    "    print(\"You owe money!\")"
   ]
  },
  {
   "cell_type": "markdown",
   "metadata": {},
   "source": [
    "### Modulo\n",
    "Modulo is a math operator that returns the remainder. For example, 7 mod 2 is equal to 1, since 2 goes evenly into 7 three times, with a remainder of one. 6 mod 2, on the other hand, is exactly 0, since 6 is a multiple of 2. Here are some other examples:\n",
    "\n",
    "8 mod 5 = 3\n",
    "\n",
    "8 mod 3 = 2\n",
    "\n",
    "8 mod 7 = 1\n",
    "\n",
    "8 mod 4 = 0\n",
    "\n",
    "8 mod 8 = 0\n",
    "\n",
    "8 mod 9 = 8\n",
    "\n",
    "8 mod 10 = 8\n",
    "\n",
    "In Python, we use the % sign to denote the mod symbol:"
   ]
  },
  {
   "cell_type": "code",
   "execution_count": 66,
   "metadata": {
    "scrolled": true
   },
   "outputs": [
    {
     "name": "stdout",
     "output_type": "stream",
     "text": [
      "1\n"
     ]
    }
   ],
   "source": [
    "print(16 % 5) "
   ]
  },
  {
   "cell_type": "markdown",
   "metadata": {},
   "source": [
    "The mod function often comes up when we want to test whether a number is even or odd, since all even numbers mod 2 are zero and all odd numbers mod 2 are 1. \n",
    "\n",
    "In addition, the mod function helps us determine whether a number is a factor of another number, since when m is a factor of n, n % m = 0.\n"
   ]
  },
  {
   "cell_type": "markdown",
   "metadata": {},
   "source": [
    "### Exercise - Even/odd\n",
    "Take in a user's number and determine whether it is even or odd."
   ]
  },
  {
   "cell_type": "code",
   "execution_count": null,
   "metadata": {
    "collapsed": true
   },
   "outputs": [],
   "source": [
    "number = int(input(\"Enter a number\")\n",
    "             \n",
    "if number % 2 == 0:\n",
    "    print(\"The number is even.\")\n",
    "else:\n",
    "    print(\"The number is odd.\")"
   ]
  },
  {
   "cell_type": "markdown",
   "metadata": {},
   "source": [
    "### Exercise - Even/odd 2\n",
    "Take in a user's list of numbers and determine whether the sum of the numbers is even or odd."
   ]
  },
  {
   "cell_type": "code",
   "execution_count": 43,
   "metadata": {},
   "outputs": [
    {
     "name": "stdout",
     "output_type": "stream",
     "text": [
      "Enter a list of numbers seperated by a space.1 2 3 4 \n",
      "The sum of the numbers is even.\n"
     ]
    }
   ],
   "source": [
    "numbers = input(\"Enter a list of numbers seperated by a space.\")\n",
    "numbers = numbers.split()\n",
    "numbers = [int(num) for num in numbers]\n",
    "summygang = sum(numbers)\n",
    "\n",
    "if summygang%2 == 0:\n",
    "    print(\"The sum of the numbers is even.\")\n",
    "else:\n",
    "    print(\"The sum of the numbers is odd.\")"
   ]
  },
  {
   "cell_type": "markdown",
   "metadata": {},
   "source": [
    "### Exercise - all evens\n",
    "Write a program that takes in a user's number and prints all of the even numbers between 2 and that number, inclusive."
   ]
  },
  {
   "cell_type": "code",
   "execution_count": 37,
   "metadata": {},
   "outputs": [
    {
     "name": "stdout",
     "output_type": "stream",
     "text": [
      "Enter a number.57\n",
      "2\n",
      "4\n",
      "6\n",
      "8\n",
      "10\n",
      "12\n",
      "14\n",
      "16\n",
      "18\n",
      "20\n",
      "22\n",
      "24\n",
      "26\n",
      "28\n",
      "30\n",
      "32\n",
      "34\n",
      "36\n",
      "38\n",
      "40\n",
      "42\n",
      "44\n",
      "46\n",
      "48\n",
      "50\n",
      "52\n",
      "54\n",
      "56\n"
     ]
    }
   ],
   "source": [
    "number = int(input(\"Enter a number.\"))\n",
    "\n",
    "for i in range(2, number+1):\n",
    "    if i%2 == 0:\n",
    "        print(i)"
   ]
  },
  {
   "cell_type": "markdown",
   "metadata": {},
   "source": [
    "### Exercise - multiples of 5\n",
    "Write a program that takes in a user's number and determines whether it is a multiple of 5."
   ]
  },
  {
   "cell_type": "code",
   "execution_count": 68,
   "metadata": {
    "collapsed": true
   },
   "outputs": [],
   "source": [
    "number = int(input(\"Enter a number.\"))\n",
    "\n",
    "if number%5 == 0:\n",
    "    print(\"The number is a multiple of 5.\")\n",
    "else:\n",
    "    print(\"The number is not a multiple of 5.\")"
   ]
  },
  {
   "cell_type": "markdown",
   "metadata": {},
   "source": [
    "### Exercise - factor of 120\n",
    "Write a program that takes in a user's number and determines whether it is a factor of 120."
   ]
  },
  {
   "cell_type": "code",
   "execution_count": 69,
   "metadata": {
    "collapsed": true
   },
   "outputs": [],
   "source": [
    "number = int(input(\"Enter a number.\"))\n",
    "\n",
    "if 120%number == 0:\n",
    "    print(\"The number is a factor of 120.\")\n",
    "else:\n",
    "    print(\"The number is not a factor of 120.\")"
   ]
  },
  {
   "cell_type": "markdown",
   "metadata": {},
   "source": [
    "### Exercise - all factors\n",
    "Write a program that takes in a user's number and prints out all of the factors of that number between 1 and that number, inclusive."
   ]
  },
  {
   "cell_type": "code",
   "execution_count": 38,
   "metadata": {},
   "outputs": [
    {
     "name": "stdout",
     "output_type": "stream",
     "text": [
      "Enter a number.57\n",
      "3\n",
      "19\n",
      "57\n"
     ]
    }
   ],
   "source": [
    "number = int(input(\"Enter a number.\"))\n",
    "\n",
    "for i in range(2, number+1):\n",
    "    if number%i == 0:\n",
    "        print(i)"
   ]
  },
  {
   "cell_type": "markdown",
   "metadata": {},
   "source": [
    "More Logical Operators\n",
    "---\n",
    "<a class=\"anchor\" id=\"morelog\"></a>"
   ]
  },
  {
   "cell_type": "markdown",
   "metadata": {},
   "source": [
    "What if we have more than one condition that we need to satisfy in order to execute a statement? In that case, we can use the \"and\" operator.\n",
    "\n",
    "For example, suppose in the following list we only want to print positive numbers that are even. Then we could type:\n"
   ]
  },
  {
   "cell_type": "code",
   "execution_count": 2,
   "metadata": {},
   "outputs": [
    {
     "name": "stdout",
     "output_type": "stream",
     "text": [
      "4\n",
      "6\n",
      "8\n",
      "100\n"
     ]
    }
   ],
   "source": [
    "numbers = [-1,4,-5,6,8,-2,3,-4, 7, 100]\n",
    "for number in numbers:\n",
    "    if number > 0 and number % 2 == 0:\n",
    "        print(number)\n"
   ]
  },
  {
   "cell_type": "markdown",
   "metadata": {},
   "source": [
    "Suppose instead that we want to print the numbers that are positive OR even (meaning, positive, even, or both positive and even). Then we could use \"or\":"
   ]
  },
  {
   "cell_type": "code",
   "execution_count": 3,
   "metadata": {},
   "outputs": [
    {
     "name": "stdout",
     "output_type": "stream",
     "text": [
      "4\n",
      "6\n",
      "8\n",
      "-2\n",
      "3\n",
      "-4\n",
      "7\n",
      "100\n"
     ]
    }
   ],
   "source": [
    "numbers = [-1,4,-5,6,8,-2,3,-4, 7, 100]\n",
    "for number in numbers:\n",
    "    if number > 0 or number % 2 == 0:\n",
    "        print(number)\n"
   ]
  },
  {
   "cell_type": "markdown",
   "metadata": {},
   "source": [
    "Boolean Variables\n",
    "---\n",
    "<a class=\"anchor\" id=\"booleans\"></a>\n",
    "Booleans are variables that have the value True or False. Here are some examples:"
   ]
  },
  {
   "cell_type": "code",
   "execution_count": 72,
   "metadata": {},
   "outputs": [
    {
     "name": "stdout",
     "output_type": "stream",
     "text": [
      "Your number is even\n"
     ]
    }
   ],
   "source": [
    "even = True\n",
    "if even == True:\n",
    "    print('Your number is even')\n",
    "else:\n",
    "    print('Your Number is odd')"
   ]
  },
  {
   "cell_type": "code",
   "execution_count": 39,
   "metadata": {},
   "outputs": [
    {
     "name": "stdout",
     "output_type": "stream",
     "text": [
      "gimme a number: 17\n",
      "Even: False\n"
     ]
    }
   ],
   "source": [
    "number = int(input('gimme a number: '))\n",
    "if number % 2 == 0:\n",
    "    even = True\n",
    "else:\n",
    "    even = False\n",
    "print('Even:', even)"
   ]
  },
  {
   "cell_type": "markdown",
   "metadata": {},
   "source": [
    "We can use Booleans inside for loops. We first need to initialize them with a value, though. Consider this example:\n",
    "    "
   ]
  },
  {
   "cell_type": "code",
   "execution_count": 80,
   "metadata": {},
   "outputs": [
    {
     "name": "stdout",
     "output_type": "stream",
     "text": [
      "You have an even number in your list.\n"
     ]
    }
   ],
   "source": [
    "numbers = [5, 3, 7, 9, 1, 2, 15]\n",
    "even = False\n",
    "\n",
    "for number in numbers:\n",
    "    if number % 2 == 0:\n",
    "        even = True\n",
    "        \n",
    "if even == True:\n",
    "    print('You have an even number in your list.')\n",
    "else:\n",
    "    print('You have no even numbers in your list.')"
   ]
  },
  {
   "cell_type": "markdown",
   "metadata": {},
   "source": [
    "### Exercise - multiples \n",
    "Write a program that prints \"Yes! Your number is a multiple of both 4 and 5!\" if the user's number is a multiple of both 4 and 5 and \"Cool! Your number is a multiple of 4 or 5!\" if the user's number is a multiple of one of them. Otherwise, print \"Sorry, 4 and 5 are not factors of your number.\""
   ]
  },
  {
   "cell_type": "code",
   "execution_count": 41,
   "metadata": {},
   "outputs": [
    {
     "name": "stdout",
     "output_type": "stream",
     "text": [
      "Enter a number16\n",
      "Cool! Your number is a multiple of 4 or 5!\n"
     ]
    }
   ],
   "source": [
    "number = int(input(\"Enter a number\"))\n",
    "\n",
    "if number % 5 == 0 and number % 4 == 0:\n",
    "    print(\"Yes! Your number is a multiple of both 4 and 5!\")\n",
    "elif number % 5 == 0 or number % 4 == 0:\n",
    "    print(\"Cool! Your number is a multiple of 4 or 5!\")\n",
    "else:\n",
    "    print(\"Sorry, 4 and 5 are not factors of your number.\")\n"
   ]
  },
  {
   "cell_type": "markdown",
   "metadata": {},
   "source": [
    "### Exercise - negatives\n",
    "Take in a user's list of numbers. If there are any negative numbers in the list, print \"You have a negative in your list.\" Otherwise, indicate that they do not. Use a stored Boolean."
   ]
  },
  {
   "cell_type": "code",
   "execution_count": 44,
   "metadata": {},
   "outputs": [
    {
     "name": "stdout",
     "output_type": "stream",
     "text": [
      "Enter a list of numbers seperated by a space.5 4 -5 \n",
      "You have a negative in your list.\n"
     ]
    }
   ],
   "source": [
    "numbers = input(\"Enter a list of numbers seperated by a space.\")\n",
    "numbers = numbers.split()\n",
    "numbers = [int(num) for num in numbers]\n",
    "\n",
    "negative = False \n",
    "\n",
    "for i in range(len(numbers)):\n",
    "    if numbers[i] < 0:\n",
    "        negative = True\n",
    "        \n",
    "if negative: \n",
    "    print(\"You have a negative in your list.\")\n",
    "else:\n",
    "    print(\"You do not have a negative in your list.\")\n",
    "    "
   ]
  },
  {
   "cell_type": "markdown",
   "metadata": {},
   "source": [
    "### Exercise - factors of 120\n",
    "Take in a user's numbers. Determine if any of them are a factor of 120. If at least one of them is, print \"You have a factor of 120 in your list.\" Otherwise, indicate that they do not. Use a stored Boolean."
   ]
  },
  {
   "cell_type": "code",
   "execution_count": 82,
   "metadata": {
    "collapsed": true
   },
   "outputs": [],
   "source": [
    "numbers = input(\"Enter a list of numbers seperated by a space.\")\n",
    "numbers = numbers.split()\n",
    "numbers = [int(num) for num in numbers]\n",
    "\n",
    "gang = False \n",
    "\n",
    "for i in range(len(numbers)):\n",
    "    if 120%i == 0:\n",
    "        gang = True\n",
    "        \n",
    "if gang: \n",
    "    print(\"You have a factor of 120 in your list.\")\n",
    "else:\n",
    "    print(\"You do not have a factor of 120 in your list.\")\n",
    "    "
   ]
  },
  {
   "cell_type": "markdown",
   "metadata": {},
   "source": [
    "### Weird if statements\n",
    "One last thing about if statements. If the value is nonzero or nonempty, then an if statement evaluates to true:"
   ]
  },
  {
   "cell_type": "code",
   "execution_count": 45,
   "metadata": {},
   "outputs": [
    {
     "name": "stdout",
     "output_type": "stream",
     "text": [
      "This is evaluates to False.\n"
     ]
    }
   ],
   "source": [
    "if 0:\n",
    "    print('This is evaluates to True.')\n",
    "else:\n",
    "    print('This is evaluates to False.')"
   ]
  },
  {
   "cell_type": "code",
   "execution_count": 86,
   "metadata": {},
   "outputs": [
    {
     "name": "stdout",
     "output_type": "stream",
     "text": [
      "This is evaluates to True.\n"
     ]
    }
   ],
   "source": [
    "if 100:\n",
    "    print('This is evaluates to True.')\n",
    "else:\n",
    "    print('This is evaluates to False.')"
   ]
  },
  {
   "cell_type": "code",
   "execution_count": 87,
   "metadata": {},
   "outputs": [
    {
     "name": "stdout",
     "output_type": "stream",
     "text": [
      "This is evaluates to True.\n"
     ]
    }
   ],
   "source": [
    "if -1:\n",
    "    print('This is evaluates to True.')\n",
    "else:\n",
    "    print('This is evaluates to False.')"
   ]
  },
  {
   "cell_type": "code",
   "execution_count": 88,
   "metadata": {},
   "outputs": [
    {
     "name": "stdout",
     "output_type": "stream",
     "text": [
      "This is evaluates to False.\n"
     ]
    }
   ],
   "source": [
    "if '':\n",
    "    print('This is evaluates to True.')\n",
    "else:\n",
    "    print('This is evaluates to False.')"
   ]
  },
  {
   "cell_type": "code",
   "execution_count": 89,
   "metadata": {},
   "outputs": [
    {
     "name": "stdout",
     "output_type": "stream",
     "text": [
      "This is evaluates to True.\n"
     ]
    }
   ],
   "source": [
    "if '  ':\n",
    "    print('This is evaluates to True.')\n",
    "else:\n",
    "    print('This is evaluates to False.')"
   ]
  },
  {
   "cell_type": "code",
   "execution_count": 90,
   "metadata": {},
   "outputs": [
    {
     "name": "stdout",
     "output_type": "stream",
     "text": [
      "This is evaluates to True.\n"
     ]
    }
   ],
   "source": [
    "if 'hello':\n",
    "    print('This is evaluates to True.')\n",
    "else:\n",
    "    print('This is evaluates to False.')"
   ]
  },
  {
   "cell_type": "markdown",
   "metadata": {},
   "source": [
    "This will come in especially handy when you want to see if a user enters a response or just presses enter:"
   ]
  },
  {
   "cell_type": "code",
   "execution_count": 46,
   "metadata": {},
   "outputs": [
    {
     "name": "stdout",
     "output_type": "stream",
     "text": [
      "Say something: \n",
      "Boo, you just pressed enter.\n"
     ]
    }
   ],
   "source": [
    "user = input('Say something: ')\n",
    "if user:\n",
    "    print('Yay! You said something.')\n",
    "else:\n",
    "    print('Boo, you just pressed enter.')"
   ]
  },
  {
   "cell_type": "markdown",
   "metadata": {},
   "source": [
    "### Nested For Loops\n",
    "To test whether a number is prime or not, we can write:"
   ]
  },
  {
   "cell_type": "code",
   "execution_count": 2,
   "metadata": {},
   "outputs": [
    {
     "name": "stdout",
     "output_type": "stream",
     "text": [
      "What is your number? 5\n",
      "Your number is prime.\n"
     ]
    }
   ],
   "source": [
    "number = int(input('What is your number? '))\n",
    "prime = True\n",
    "for i in range(2,number):\n",
    "    if number % i == 0:\n",
    "        prime = False\n",
    "if prime == True:\n",
    "    print('Your number is prime.')\n",
    "else:\n",
    "    print('Your number is not prime.')"
   ]
  },
  {
   "cell_type": "markdown",
   "metadata": {},
   "source": [
    "What if we wanted to find all prime numbers between a user's two given numbers? We would need a for loop within a for loop:"
   ]
  },
  {
   "cell_type": "code",
   "execution_count": 3,
   "metadata": {},
   "outputs": [
    {
     "name": "stdout",
     "output_type": "stream",
     "text": [
      "What is your first number? 3\n",
      "What is your second number? 9\n",
      "3\n",
      "5\n",
      "7\n"
     ]
    }
   ],
   "source": [
    "first = int(input('What is your first number? '))\n",
    "second = int(input('What is your second number? '))\n",
    "for i in range(first,second+1):\n",
    "    prime = True\n",
    "    for j in range(2,i):\n",
    "        if i % j == 0:\n",
    "            prime = False\n",
    "    if prime == True:\n",
    "        print(i)\n"
   ]
  },
  {
   "cell_type": "markdown",
   "metadata": {},
   "source": [
    "### Nested exercise 1:\n",
    "Ask a user for two numbers. Print all of the multiples of 3 between those two numbers (inclusive). (You don't need a nested loop yet.)"
   ]
  },
  {
   "cell_type": "code",
   "execution_count": 47,
   "metadata": {},
   "outputs": [
    {
     "name": "stdout",
     "output_type": "stream",
     "text": [
      "Enter in a number.1\n",
      "Enter in another number.57\n",
      "3\n",
      "6\n",
      "9\n",
      "12\n",
      "15\n",
      "18\n",
      "21\n",
      "24\n",
      "27\n",
      "30\n",
      "33\n",
      "36\n",
      "39\n",
      "42\n",
      "45\n",
      "48\n",
      "51\n",
      "54\n",
      "57\n"
     ]
    }
   ],
   "source": [
    "num1 = int(input(\"Enter in a number.\"))\n",
    "num2 = int(input(\"Enter in another number.\"))\n",
    "\n",
    "for i in range(num1, num2+1):\n",
    "    if i%3 == 0:\n",
    "        print(i)"
   ]
  },
  {
   "cell_type": "markdown",
   "metadata": {},
   "source": [
    "### Nested exercise 2:\n",
    "Ask a user for two numbers. Print all odd numbers between those two numbers (inclusive). (You don't need a nested loop yet.)"
   ]
  },
  {
   "cell_type": "code",
   "execution_count": 49,
   "metadata": {},
   "outputs": [
    {
     "name": "stdout",
     "output_type": "stream",
     "text": [
      "Enter in a number.200\n",
      "Enter in another number.1\n"
     ]
    }
   ],
   "source": [
    "num1 = int(input(\"Enter in a number.\"))\n",
    "num2 = int(input(\"Enter in another number.\"))\n",
    "\n",
    "for i in range(num1, num2+1):\n",
    "    if i%2 == 1:\n",
    "        print(i)"
   ]
  },
  {
   "cell_type": "markdown",
   "metadata": {},
   "source": [
    "### Nested exercise 3:\n",
    "Ask a user for two numbers. The first number is the highest number and the second number is the number of multiples. Then print the times tables between 1 and the highest number. For instance, if a user enters \"5\" and \"3\", your program should print out:\n",
    "\n",
    "```1x1 = 1\n",
    "1x2 = 2\n",
    "1x3 = 3\n",
    "2x1 = 2\n",
    "2x2 = 4\n",
    "2x3 = 6\n",
    "3x1 = 3\n",
    "3x2 = 6\n",
    "3x3 = 9\n",
    "4x1 = 4\n",
    "4x2 = 8\n",
    "4x3 = 12\n",
    "5x1 = 5\n",
    "5x2 = 10\n",
    "5x3 = 15```"
   ]
  },
  {
   "cell_type": "code",
   "execution_count": null,
   "metadata": {
    "collapsed": true
   },
   "outputs": [],
   "source": [
    "#insert exercise 3"
   ]
  },
  {
   "cell_type": "markdown",
   "metadata": {},
   "source": [
    "### Nested exercise 4:\n",
    "Create a \"double for loop\" that iterates through 1 through 5 in the outer loop and and 1 through 4 in each inner loop.How many total iterations through the loop will this create?"
   ]
  },
  {
   "cell_type": "code",
   "execution_count": null,
   "metadata": {
    "collapsed": true
   },
   "outputs": [],
   "source": [
    "#insert nested exercise 4"
   ]
  },
  {
   "cell_type": "markdown",
   "metadata": {},
   "source": [
    "### Nested exercise 5:\n",
    "Create a TRIPLE for loop that has:\n",
    "3 in the outer loop\n",
    "3 in the middle loop\n",
    "2 in the inner most loop.\n",
    "\n",
    "How many total iterations through the loop will this make?"
   ]
  },
  {
   "cell_type": "code",
   "execution_count": null,
   "metadata": {
    "collapsed": true
   },
   "outputs": [],
   "source": [
    "#insert nested exercise 5"
   ]
  },
  {
   "cell_type": "markdown",
   "metadata": {},
   "source": [
    "### Nested exercise 6:\n",
    "Looping through a list to get every possible m * n product\n",
    "\n",
    "How can you loop through this list to get all the possible m * n products?\n",
    "\n",
    "Can you do it so no product is repeated?  I.e., since 2 x 3 = 3 x 2, don't include both of these.\n",
    "\n",
    "my_list = [2, 3, 5, 7, 11, 13, 17, 19, 23]"
   ]
  },
  {
   "cell_type": "code",
   "execution_count": null,
   "metadata": {
    "collapsed": true
   },
   "outputs": [],
   "source": [
    "#insert nested exercise 6"
   ]
  },
  {
   "cell_type": "markdown",
   "metadata": {},
   "source": [
    "### Nested exercise 7:\n",
    "Take in a user's list of words. Print all of the words that contain a \"x\" in them. For example:\n",
    "\n",
    "Input: \n",
    "\n",
    "words = ['xanadu', 'banana', 'xray', 'telephone', 'excited']\n",
    "\n",
    "Output:\n",
    "\n",
    "xanadu\n",
    "\n",
    "xray\n",
    "\n",
    "excited\n",
    "\n",
    "(Note: you can do this by just saying \"if 'x' in word\", however, we would like you to use a second for loop.)"
   ]
  },
  {
   "cell_type": "code",
   "execution_count": 4,
   "metadata": {
    "collapsed": true
   },
   "outputs": [],
   "source": [
    "#insert exercise 7"
   ]
  },
  {
   "cell_type": "markdown",
   "metadata": {},
   "source": [
    "### Nested exercise 8:\n",
    "Take in a user's list of sentences. Print out each sentence that contains an \"x\". For example,\n",
    "\n",
    "Input:\n",
    "\n",
    "sentences = ['I love x-rays', 'I am excited', 'My name is Lauren.']\n",
    "\n",
    "Output:\n",
    "\n",
    "'I love x-rays.'\n",
    "\n",
    "'I am excited.'\n",
    "\n",
    "Use three nested for loops."
   ]
  },
  {
   "cell_type": "code",
   "execution_count": 5,
   "metadata": {
    "collapsed": true
   },
   "outputs": [],
   "source": [
    "#insert exercise 8"
   ]
  },
  {
   "cell_type": "code",
   "execution_count": null,
   "metadata": {
    "collapsed": true
   },
   "outputs": [],
   "source": []
  }
 ],
 "metadata": {
  "kernelspec": {
   "display_name": "Python 3",
   "language": "python",
   "name": "python3"
  },
  "language_info": {
   "codemirror_mode": {
    "name": "ipython",
    "version": 3
   },
   "file_extension": ".py",
   "mimetype": "text/x-python",
   "name": "python",
   "nbconvert_exporter": "python",
   "pygments_lexer": "ipython3",
   "version": "3.7.3"
  }
 },
 "nbformat": 4,
 "nbformat_minor": 2
}
